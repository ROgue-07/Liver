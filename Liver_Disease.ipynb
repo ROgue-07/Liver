{
  "nbformat": 4,
  "nbformat_minor": 0,
  "metadata": {
    "colab": {
      "name": "Liver Disease.ipynb",
      "provenance": [],
      "collapsed_sections": [],
      "authorship_tag": "ABX9TyPzEeXdYjepgIcnDRxrGGMi",
      "include_colab_link": true
    },
    "kernelspec": {
      "display_name": "Python 3",
      "name": "python3"
    },
    "language_info": {
      "name": "python"
    }
  },
  "cells": [
    {
      "cell_type": "markdown",
      "metadata": {
        "id": "view-in-github",
        "colab_type": "text"
      },
      "source": [
        "<a href=\"https://colab.research.google.com/github/ROgue-07/Liver/blob/main/Liver_Disease.ipynb\" target=\"_parent\"><img src=\"https://colab.research.google.com/assets/colab-badge.svg\" alt=\"Open In Colab\"/></a>"
      ]
    },
    {
      "cell_type": "code",
      "metadata": {
        "colab": {
          "base_uri": "https://localhost:8080/"
        },
        "id": "hi1eY98D7PBL",
        "outputId": "71d31120-78e2-499c-ec38-951a83b7204a"
      },
      "source": [
        "from google.colab import drive\n",
        "drive.mount('/content/drive')"
      ],
      "execution_count": null,
      "outputs": [
        {
          "output_type": "stream",
          "name": "stdout",
          "text": [
            "Drive already mounted at /content/drive; to attempt to forcibly remount, call drive.mount(\"/content/drive\", force_remount=True).\n"
          ]
        }
      ]
    },
    {
      "cell_type": "code",
      "metadata": {
        "id": "37KOIrsjT9ni"
      },
      "source": [
        "# IMPORTING LIBRARIES\n",
        "import numpy as np\n",
        "import pandas as pd\n",
        "from numpy import loadtxt\n",
        "from sklearn.model_selection import train_test_split\n",
        "from sklearn import tree\n",
        "from sklearn.tree import DecisionTreeClassifier\n",
        "from sklearn.linear_model import  LogisticRegression\n",
        "from sklearn.model_selection import RandomizedSearchCV\n",
        "from sklearn.model_selection import GridSearchCV\n",
        "from xgboost import XGBClassifier\n",
        "from sklearn.metrics import precision_score, recall_score, f1_score, accuracy_score, confusion_matrix, cohen_kappa_score, classification_report\n",
        "from sklearn.metrics import roc_curve, auc, roc_auc_score\n",
        "import matplotlib.pyplot as plt\n",
        "#for oversampling\n",
        "from imblearn.over_sampling import RandomOverSampler\n",
        "from collections import Counter"
      ],
      "execution_count": null,
      "outputs": []
    },
    {
      "cell_type": "code",
      "metadata": {
        "colab": {
          "base_uri": "https://localhost:8080/",
          "height": 284
        },
        "id": "F5VZ4Zd2pLwZ",
        "outputId": "e8d93f70-79d6-4794-bbf5-fcbc8ffcf54d"
      },
      "source": [
        "data = pd.read_csv('/content/drive/MyDrive/Data Sets/Liver Disease/Liver Patient Dataset (LPD)_train.csv', encoding = 'unicode_escape')\n",
        "datat = pd.read_excel(\"/content/drive/MyDrive/Data Sets/Liver Disease/test.csv.xlsx\")\n",
        "print(data.shape)\n",
        "data.head()"
      ],
      "execution_count": null,
      "outputs": [
        {
          "output_type": "stream",
          "name": "stdout",
          "text": [
            "(30691, 11)\n"
          ]
        },
        {
          "output_type": "execute_result",
          "data": {
            "text/html": [
              "\n",
              "  <div id=\"df-6e0892e8-9028-4989-b45b-9cde7af1a7fa\">\n",
              "    <div class=\"colab-df-container\">\n",
              "      <div>\n",
              "<style scoped>\n",
              "    .dataframe tbody tr th:only-of-type {\n",
              "        vertical-align: middle;\n",
              "    }\n",
              "\n",
              "    .dataframe tbody tr th {\n",
              "        vertical-align: top;\n",
              "    }\n",
              "\n",
              "    .dataframe thead th {\n",
              "        text-align: right;\n",
              "    }\n",
              "</style>\n",
              "<table border=\"1\" class=\"dataframe\">\n",
              "  <thead>\n",
              "    <tr style=\"text-align: right;\">\n",
              "      <th></th>\n",
              "      <th>Age of the patient</th>\n",
              "      <th>Gender of the patient</th>\n",
              "      <th>Total Bilirubin</th>\n",
              "      <th>Direct Bilirubin</th>\n",
              "      <th>Alkphos Alkaline Phosphotase</th>\n",
              "      <th>Sgpt Alamine Aminotransferase</th>\n",
              "      <th>Sgot Aspartate Aminotransferase</th>\n",
              "      <th>Total Protiens</th>\n",
              "      <th>ALB Albumin</th>\n",
              "      <th>A/G Ratio Albumin and Globulin Ratio</th>\n",
              "      <th>Result</th>\n",
              "    </tr>\n",
              "  </thead>\n",
              "  <tbody>\n",
              "    <tr>\n",
              "      <th>0</th>\n",
              "      <td>65.0</td>\n",
              "      <td>Female</td>\n",
              "      <td>0.7</td>\n",
              "      <td>0.1</td>\n",
              "      <td>187.0</td>\n",
              "      <td>16.0</td>\n",
              "      <td>18.0</td>\n",
              "      <td>6.8</td>\n",
              "      <td>3.3</td>\n",
              "      <td>0.90</td>\n",
              "      <td>1</td>\n",
              "    </tr>\n",
              "    <tr>\n",
              "      <th>1</th>\n",
              "      <td>62.0</td>\n",
              "      <td>Male</td>\n",
              "      <td>10.9</td>\n",
              "      <td>5.5</td>\n",
              "      <td>699.0</td>\n",
              "      <td>64.0</td>\n",
              "      <td>100.0</td>\n",
              "      <td>7.5</td>\n",
              "      <td>3.2</td>\n",
              "      <td>0.74</td>\n",
              "      <td>1</td>\n",
              "    </tr>\n",
              "    <tr>\n",
              "      <th>2</th>\n",
              "      <td>62.0</td>\n",
              "      <td>Male</td>\n",
              "      <td>7.3</td>\n",
              "      <td>4.1</td>\n",
              "      <td>490.0</td>\n",
              "      <td>60.0</td>\n",
              "      <td>68.0</td>\n",
              "      <td>7.0</td>\n",
              "      <td>3.3</td>\n",
              "      <td>0.89</td>\n",
              "      <td>1</td>\n",
              "    </tr>\n",
              "    <tr>\n",
              "      <th>3</th>\n",
              "      <td>58.0</td>\n",
              "      <td>Male</td>\n",
              "      <td>1.0</td>\n",
              "      <td>0.4</td>\n",
              "      <td>182.0</td>\n",
              "      <td>14.0</td>\n",
              "      <td>20.0</td>\n",
              "      <td>6.8</td>\n",
              "      <td>3.4</td>\n",
              "      <td>1.00</td>\n",
              "      <td>1</td>\n",
              "    </tr>\n",
              "    <tr>\n",
              "      <th>4</th>\n",
              "      <td>72.0</td>\n",
              "      <td>Male</td>\n",
              "      <td>3.9</td>\n",
              "      <td>2.0</td>\n",
              "      <td>195.0</td>\n",
              "      <td>27.0</td>\n",
              "      <td>59.0</td>\n",
              "      <td>7.3</td>\n",
              "      <td>2.4</td>\n",
              "      <td>0.40</td>\n",
              "      <td>1</td>\n",
              "    </tr>\n",
              "  </tbody>\n",
              "</table>\n",
              "</div>\n",
              "      <button class=\"colab-df-convert\" onclick=\"convertToInteractive('df-6e0892e8-9028-4989-b45b-9cde7af1a7fa')\"\n",
              "              title=\"Convert this dataframe to an interactive table.\"\n",
              "              style=\"display:none;\">\n",
              "        \n",
              "  <svg xmlns=\"http://www.w3.org/2000/svg\" height=\"24px\"viewBox=\"0 0 24 24\"\n",
              "       width=\"24px\">\n",
              "    <path d=\"M0 0h24v24H0V0z\" fill=\"none\"/>\n",
              "    <path d=\"M18.56 5.44l.94 2.06.94-2.06 2.06-.94-2.06-.94-.94-2.06-.94 2.06-2.06.94zm-11 1L8.5 8.5l.94-2.06 2.06-.94-2.06-.94L8.5 2.5l-.94 2.06-2.06.94zm10 10l.94 2.06.94-2.06 2.06-.94-2.06-.94-.94-2.06-.94 2.06-2.06.94z\"/><path d=\"M17.41 7.96l-1.37-1.37c-.4-.4-.92-.59-1.43-.59-.52 0-1.04.2-1.43.59L10.3 9.45l-7.72 7.72c-.78.78-.78 2.05 0 2.83L4 21.41c.39.39.9.59 1.41.59.51 0 1.02-.2 1.41-.59l7.78-7.78 2.81-2.81c.8-.78.8-2.07 0-2.86zM5.41 20L4 18.59l7.72-7.72 1.47 1.35L5.41 20z\"/>\n",
              "  </svg>\n",
              "      </button>\n",
              "      \n",
              "  <style>\n",
              "    .colab-df-container {\n",
              "      display:flex;\n",
              "      flex-wrap:wrap;\n",
              "      gap: 12px;\n",
              "    }\n",
              "\n",
              "    .colab-df-convert {\n",
              "      background-color: #E8F0FE;\n",
              "      border: none;\n",
              "      border-radius: 50%;\n",
              "      cursor: pointer;\n",
              "      display: none;\n",
              "      fill: #1967D2;\n",
              "      height: 32px;\n",
              "      padding: 0 0 0 0;\n",
              "      width: 32px;\n",
              "    }\n",
              "\n",
              "    .colab-df-convert:hover {\n",
              "      background-color: #E2EBFA;\n",
              "      box-shadow: 0px 1px 2px rgba(60, 64, 67, 0.3), 0px 1px 3px 1px rgba(60, 64, 67, 0.15);\n",
              "      fill: #174EA6;\n",
              "    }\n",
              "\n",
              "    [theme=dark] .colab-df-convert {\n",
              "      background-color: #3B4455;\n",
              "      fill: #D2E3FC;\n",
              "    }\n",
              "\n",
              "    [theme=dark] .colab-df-convert:hover {\n",
              "      background-color: #434B5C;\n",
              "      box-shadow: 0px 1px 3px 1px rgba(0, 0, 0, 0.15);\n",
              "      filter: drop-shadow(0px 1px 2px rgba(0, 0, 0, 0.3));\n",
              "      fill: #FFFFFF;\n",
              "    }\n",
              "  </style>\n",
              "\n",
              "      <script>\n",
              "        const buttonEl =\n",
              "          document.querySelector('#df-6e0892e8-9028-4989-b45b-9cde7af1a7fa button.colab-df-convert');\n",
              "        buttonEl.style.display =\n",
              "          google.colab.kernel.accessAllowed ? 'block' : 'none';\n",
              "\n",
              "        async function convertToInteractive(key) {\n",
              "          const element = document.querySelector('#df-6e0892e8-9028-4989-b45b-9cde7af1a7fa');\n",
              "          const dataTable =\n",
              "            await google.colab.kernel.invokeFunction('convertToInteractive',\n",
              "                                                     [key], {});\n",
              "          if (!dataTable) return;\n",
              "\n",
              "          const docLinkHtml = 'Like what you see? Visit the ' +\n",
              "            '<a target=\"_blank\" href=https://colab.research.google.com/notebooks/data_table.ipynb>data table notebook</a>'\n",
              "            + ' to learn more about interactive tables.';\n",
              "          element.innerHTML = '';\n",
              "          dataTable['output_type'] = 'display_data';\n",
              "          await google.colab.output.renderOutput(dataTable, element);\n",
              "          const docLink = document.createElement('div');\n",
              "          docLink.innerHTML = docLinkHtml;\n",
              "          element.appendChild(docLink);\n",
              "        }\n",
              "      </script>\n",
              "    </div>\n",
              "  </div>\n",
              "  "
            ],
            "text/plain": [
              "   Age of the patient  ... Result\n",
              "0                65.0  ...      1\n",
              "1                62.0  ...      1\n",
              "2                62.0  ...      1\n",
              "3                58.0  ...      1\n",
              "4                72.0  ...      1\n",
              "\n",
              "[5 rows x 11 columns]"
            ]
          },
          "metadata": {},
          "execution_count": 71
        }
      ]
    },
    {
      "cell_type": "code",
      "metadata": {
        "colab": {
          "base_uri": "https://localhost:8080/",
          "height": 206
        },
        "id": "FDFYzFEkfs_R",
        "outputId": "ec4470dc-b9ae-43ff-880e-8315654e67e4"
      },
      "source": [
        "datat.head()"
      ],
      "execution_count": null,
      "outputs": [
        {
          "output_type": "execute_result",
          "data": {
            "text/html": [
              "\n",
              "  <div id=\"df-e6bae36d-90ba-433f-aa03-c7e012213edb\">\n",
              "    <div class=\"colab-df-container\">\n",
              "      <div>\n",
              "<style scoped>\n",
              "    .dataframe tbody tr th:only-of-type {\n",
              "        vertical-align: middle;\n",
              "    }\n",
              "\n",
              "    .dataframe tbody tr th {\n",
              "        vertical-align: top;\n",
              "    }\n",
              "\n",
              "    .dataframe thead th {\n",
              "        text-align: right;\n",
              "    }\n",
              "</style>\n",
              "<table border=\"1\" class=\"dataframe\">\n",
              "  <thead>\n",
              "    <tr style=\"text-align: right;\">\n",
              "      <th></th>\n",
              "      <th>66</th>\n",
              "      <th>Female</th>\n",
              "      <th>0.9</th>\n",
              "      <th>0.2</th>\n",
              "      <th>210</th>\n",
              "      <th>35</th>\n",
              "      <th>32</th>\n",
              "      <th>8</th>\n",
              "      <th>3.9</th>\n",
              "      <th>0.9.1</th>\n",
              "    </tr>\n",
              "  </thead>\n",
              "  <tbody>\n",
              "    <tr>\n",
              "      <th>0</th>\n",
              "      <td>50</td>\n",
              "      <td>Male</td>\n",
              "      <td>9.4</td>\n",
              "      <td>5.2</td>\n",
              "      <td>268</td>\n",
              "      <td>21</td>\n",
              "      <td>63</td>\n",
              "      <td>6.4</td>\n",
              "      <td>2.8</td>\n",
              "      <td>0.8</td>\n",
              "    </tr>\n",
              "    <tr>\n",
              "      <th>1</th>\n",
              "      <td>42</td>\n",
              "      <td>Female</td>\n",
              "      <td>3.5</td>\n",
              "      <td>1.6</td>\n",
              "      <td>298</td>\n",
              "      <td>68</td>\n",
              "      <td>200</td>\n",
              "      <td>7.1</td>\n",
              "      <td>3.4</td>\n",
              "      <td>0.9</td>\n",
              "    </tr>\n",
              "    <tr>\n",
              "      <th>2</th>\n",
              "      <td>65</td>\n",
              "      <td>Male</td>\n",
              "      <td>1.7</td>\n",
              "      <td>0.8</td>\n",
              "      <td>315</td>\n",
              "      <td>12</td>\n",
              "      <td>38</td>\n",
              "      <td>6.3</td>\n",
              "      <td>2.1</td>\n",
              "      <td>0.5</td>\n",
              "    </tr>\n",
              "    <tr>\n",
              "      <th>3</th>\n",
              "      <td>22</td>\n",
              "      <td>Male</td>\n",
              "      <td>3.3</td>\n",
              "      <td>1.5</td>\n",
              "      <td>214</td>\n",
              "      <td>54</td>\n",
              "      <td>152</td>\n",
              "      <td>5.1</td>\n",
              "      <td>1.8</td>\n",
              "      <td>0.5</td>\n",
              "    </tr>\n",
              "    <tr>\n",
              "      <th>4</th>\n",
              "      <td>31</td>\n",
              "      <td>Female</td>\n",
              "      <td>1.1</td>\n",
              "      <td>0.3</td>\n",
              "      <td>138</td>\n",
              "      <td>14</td>\n",
              "      <td>21</td>\n",
              "      <td>7.0</td>\n",
              "      <td>3.8</td>\n",
              "      <td>1.1</td>\n",
              "    </tr>\n",
              "  </tbody>\n",
              "</table>\n",
              "</div>\n",
              "      <button class=\"colab-df-convert\" onclick=\"convertToInteractive('df-e6bae36d-90ba-433f-aa03-c7e012213edb')\"\n",
              "              title=\"Convert this dataframe to an interactive table.\"\n",
              "              style=\"display:none;\">\n",
              "        \n",
              "  <svg xmlns=\"http://www.w3.org/2000/svg\" height=\"24px\"viewBox=\"0 0 24 24\"\n",
              "       width=\"24px\">\n",
              "    <path d=\"M0 0h24v24H0V0z\" fill=\"none\"/>\n",
              "    <path d=\"M18.56 5.44l.94 2.06.94-2.06 2.06-.94-2.06-.94-.94-2.06-.94 2.06-2.06.94zm-11 1L8.5 8.5l.94-2.06 2.06-.94-2.06-.94L8.5 2.5l-.94 2.06-2.06.94zm10 10l.94 2.06.94-2.06 2.06-.94-2.06-.94-.94-2.06-.94 2.06-2.06.94z\"/><path d=\"M17.41 7.96l-1.37-1.37c-.4-.4-.92-.59-1.43-.59-.52 0-1.04.2-1.43.59L10.3 9.45l-7.72 7.72c-.78.78-.78 2.05 0 2.83L4 21.41c.39.39.9.59 1.41.59.51 0 1.02-.2 1.41-.59l7.78-7.78 2.81-2.81c.8-.78.8-2.07 0-2.86zM5.41 20L4 18.59l7.72-7.72 1.47 1.35L5.41 20z\"/>\n",
              "  </svg>\n",
              "      </button>\n",
              "      \n",
              "  <style>\n",
              "    .colab-df-container {\n",
              "      display:flex;\n",
              "      flex-wrap:wrap;\n",
              "      gap: 12px;\n",
              "    }\n",
              "\n",
              "    .colab-df-convert {\n",
              "      background-color: #E8F0FE;\n",
              "      border: none;\n",
              "      border-radius: 50%;\n",
              "      cursor: pointer;\n",
              "      display: none;\n",
              "      fill: #1967D2;\n",
              "      height: 32px;\n",
              "      padding: 0 0 0 0;\n",
              "      width: 32px;\n",
              "    }\n",
              "\n",
              "    .colab-df-convert:hover {\n",
              "      background-color: #E2EBFA;\n",
              "      box-shadow: 0px 1px 2px rgba(60, 64, 67, 0.3), 0px 1px 3px 1px rgba(60, 64, 67, 0.15);\n",
              "      fill: #174EA6;\n",
              "    }\n",
              "\n",
              "    [theme=dark] .colab-df-convert {\n",
              "      background-color: #3B4455;\n",
              "      fill: #D2E3FC;\n",
              "    }\n",
              "\n",
              "    [theme=dark] .colab-df-convert:hover {\n",
              "      background-color: #434B5C;\n",
              "      box-shadow: 0px 1px 3px 1px rgba(0, 0, 0, 0.15);\n",
              "      filter: drop-shadow(0px 1px 2px rgba(0, 0, 0, 0.3));\n",
              "      fill: #FFFFFF;\n",
              "    }\n",
              "  </style>\n",
              "\n",
              "      <script>\n",
              "        const buttonEl =\n",
              "          document.querySelector('#df-e6bae36d-90ba-433f-aa03-c7e012213edb button.colab-df-convert');\n",
              "        buttonEl.style.display =\n",
              "          google.colab.kernel.accessAllowed ? 'block' : 'none';\n",
              "\n",
              "        async function convertToInteractive(key) {\n",
              "          const element = document.querySelector('#df-e6bae36d-90ba-433f-aa03-c7e012213edb');\n",
              "          const dataTable =\n",
              "            await google.colab.kernel.invokeFunction('convertToInteractive',\n",
              "                                                     [key], {});\n",
              "          if (!dataTable) return;\n",
              "\n",
              "          const docLinkHtml = 'Like what you see? Visit the ' +\n",
              "            '<a target=\"_blank\" href=https://colab.research.google.com/notebooks/data_table.ipynb>data table notebook</a>'\n",
              "            + ' to learn more about interactive tables.';\n",
              "          element.innerHTML = '';\n",
              "          dataTable['output_type'] = 'display_data';\n",
              "          await google.colab.output.renderOutput(dataTable, element);\n",
              "          const docLink = document.createElement('div');\n",
              "          docLink.innerHTML = docLinkHtml;\n",
              "          element.appendChild(docLink);\n",
              "        }\n",
              "      </script>\n",
              "    </div>\n",
              "  </div>\n",
              "  "
            ],
            "text/plain": [
              "   66  Female  0.9  0.2  210  35   32    8  3.9  0.9.1\n",
              "0  50    Male  9.4  5.2  268  21   63  6.4  2.8    0.8\n",
              "1  42  Female  3.5  1.6  298  68  200  7.1  3.4    0.9\n",
              "2  65    Male  1.7  0.8  315  12   38  6.3  2.1    0.5\n",
              "3  22    Male  3.3  1.5  214  54  152  5.1  1.8    0.5\n",
              "4  31  Female  1.1  0.3  138  14   21  7.0  3.8    1.1"
            ]
          },
          "metadata": {},
          "execution_count": 72
        }
      ]
    },
    {
      "cell_type": "code",
      "metadata": {
        "id": "Ddhesxwe0hPJ"
      },
      "source": [
        "data.columns=['age','gender','TB','DB','AAP','SGPT','SGOT','TP','ALB','A/G','Label']"
      ],
      "execution_count": null,
      "outputs": []
    },
    {
      "cell_type": "code",
      "metadata": {
        "colab": {
          "base_uri": "https://localhost:8080/"
        },
        "id": "zLEUfoOX_1Dz",
        "outputId": "da325bee-7020-4225-8000-04c9d0261eb0"
      },
      "source": [
        "data.isnull().sum()"
      ],
      "execution_count": null,
      "outputs": [
        {
          "output_type": "execute_result",
          "data": {
            "text/plain": [
              "age         2\n",
              "gender    902\n",
              "TB        648\n",
              "DB        561\n",
              "AAP       796\n",
              "SGPT      538\n",
              "SGOT      462\n",
              "TP        463\n",
              "ALB       494\n",
              "A/G       559\n",
              "Label       0\n",
              "dtype: int64"
            ]
          },
          "metadata": {},
          "execution_count": 74
        }
      ]
    },
    {
      "cell_type": "code",
      "metadata": {
        "id": "soP8a67R5QhJ"
      },
      "source": [
        "data['gender'].replace('Female',1,inplace=True)\n",
        "data.gender.replace('Male',0,inplace=True)\n",
        "#null impute\n",
        "data.age=data.age.fillna(data.age.mean())\n",
        "data.gender=data.gender.fillna(1.0)\n",
        "data.TB=data.TB.fillna(data.TB.mean())\n",
        "data.ALB=data.ALB.fillna(data.ALB.mean())\n",
        "data.DB=data.DB.fillna(data.DB.median())\n",
        "data.AAP =data.AAP.fillna(data.AAP.median())\n",
        "data.SGPT =data.SGPT.fillna(data.SGPT.median())\n",
        "data.SGOT =data.SGOT.fillna(data.SGOT.median())\n",
        "data.TP =data.TP.fillna(data.TP.median())\n",
        "data.Label.replace(2,0,inplace=True)\n",
        "data['A/G'] =data['A/G'].fillna(data['A/G'].median())"
      ],
      "execution_count": null,
      "outputs": []
    },
    {
      "cell_type": "code",
      "metadata": {
        "id": "OXIYCy7E8usE"
      },
      "source": [
        "#oversampling on basis of label\n",
        "X = data.iloc[:,:-1]\n",
        "Y = data.iloc[:,-1]\n",
        "Data_rs=RandomOverSampler(sampling_strategy='minority')\n",
        "X_res, Y_res = Data_rs.fit_resample(X, Y)"
      ],
      "execution_count": null,
      "outputs": []
    },
    {
      "cell_type": "code",
      "metadata": {
        "colab": {
          "base_uri": "https://localhost:8080/"
        },
        "id": "YokQarv39SWW",
        "outputId": "1bd2e0a7-af6b-4a2f-c98c-55811bc175b5"
      },
      "source": [
        "print('Original dataset shape {}'.format(Counter(Y)))\n",
        "print('Resampled dataset shape {}'.format(Counter(Y_res)))"
      ],
      "execution_count": null,
      "outputs": [
        {
          "output_type": "stream",
          "name": "stdout",
          "text": [
            "Original dataset shape Counter({1: 21917, 0: 8774})\n",
            "Resampled dataset shape Counter({1: 21917, 0: 21917})\n"
          ]
        }
      ]
    },
    {
      "cell_type": "code",
      "metadata": {
        "colab": {
          "base_uri": "https://localhost:8080/"
        },
        "id": "VQClBHRr-D_x",
        "outputId": "4474ebb4-0994-40a3-cef5-2d74f3db1385"
      },
      "source": [
        "np.random.seed(0)\n",
        "X_train, X_test, Y_train, Y_test = train_test_split(X_res, Y_res, test_size=0.20,random_state=106)\n",
        "print(X_train.shape)\n",
        "print(X_test.shape)\n",
        "print(Y_train.shape)\n",
        "print(Y_test.shape)"
      ],
      "execution_count": null,
      "outputs": [
        {
          "output_type": "stream",
          "name": "stdout",
          "text": [
            "(35067, 10)\n",
            "(8767, 10)\n",
            "(35067,)\n",
            "(8767,)\n"
          ]
        }
      ]
    },
    {
      "cell_type": "markdown",
      "metadata": {
        "id": "9J0xRy_eMyjI"
      },
      "source": [
        "**DECISION TREE SEGMENT**"
      ]
    },
    {
      "cell_type": "code",
      "metadata": {
        "id": "iiIyLbZyApQ-"
      },
      "source": [
        "#np.random.seed(0)\n",
        "dt_model=DecisionTreeClassifier(random_state=101)\n",
        "dt_model.fit(X_train, Y_train)\n",
        "\n",
        "#Predict\n",
        "#np.random.seed(0)\n",
        "y_dt_pred = dt_model.predict(X_test)"
      ],
      "execution_count": null,
      "outputs": []
    },
    {
      "cell_type": "code",
      "metadata": {
        "colab": {
          "base_uri": "https://localhost:8080/"
        },
        "id": "ptxrMlP4DD-D",
        "outputId": "795a4809-59bf-4206-ce59-0ff768f37c10"
      },
      "source": [
        "print(\"DT Accuracy:\",accuracy_score(Y_test, y_dt_pred))\n",
        "print('DT Precision: %.3f' % precision_score(Y_test, y_dt_pred))\n",
        "print('DT Recall: %.3f' % recall_score(Y_test, y_dt_pred))\n",
        "print('DT F1 Score: %.3f' % f1_score(Y_test, y_dt_pred))\n",
        "print('DT Confusion matrix: \\n', confusion_matrix(Y_test, y_dt_pred))\n",
        "print('cohens kappa \\n', cohen_kappa_score(Y_test, y_dt_pred))\n",
        "print('ROC_AUC score \\n', roc_auc_score(Y_test, y_dt_pred))"
      ],
      "execution_count": null,
      "outputs": [
        {
          "output_type": "stream",
          "name": "stdout",
          "text": [
            "DT Accuracy: 0.9962358845671268\n",
            "DT Precision: 0.997\n",
            "DT Recall: 0.996\n",
            "DT F1 Score: 0.996\n",
            "DT Confusion matrix: \n",
            " [[4355   15]\n",
            " [  18 4379]]\n",
            "cohens kappa \n",
            " 0.9924717135979232\n",
            "ROC_AUC score \n",
            " 0.9962369027353266\n"
          ]
        }
      ]
    },
    {
      "cell_type": "code",
      "metadata": {
        "colab": {
          "base_uri": "https://localhost:8080/",
          "height": 294
        },
        "id": "hVWrvRQB5FdC",
        "outputId": "1ed38dcc-6dae-469a-87b3-c7553d810edc"
      },
      "source": [
        "#print(classification_report(Y_test, y_pred))\n",
        "fprDT, tprDT, thresholdDT = roc_curve(Y_test, y_dt_pred)\n",
        "roc_auc = auc(fprDT, thresholdDT)\n",
        "\n",
        "plt.title('Receiver Operating Characteristic')\n",
        "plt.plot(fprDT, tprDT, 'b', label = 'AUC = %0.2f' % roc_auc)\n",
        "plt.legend(loc = 'lower right')\n",
        "plt.plot([0, 1], [0, 1],'r--')\n",
        "plt.xlim([0, 1])\n",
        "plt.ylim([0, 1])\n",
        "plt.ylabel('True Positive Rate')\n",
        "plt.xlabel('False Positive Rate')\n",
        "plt.show()"
      ],
      "execution_count": null,
      "outputs": [
        {
          "output_type": "display_data",
          "data": {
            "image/png": "[encoded data removed]",
            "text/plain": [
              "<Figure size 432x288 with 1 Axes>"
            ]
          },
          "metadata": {
            "needs_background": "light"
          }
        }
      ]
    },
    {
      "cell_type": "code",
      "metadata": {
        "colab": {
          "base_uri": "https://localhost:8080/",
          "height": 314
        },
        "id": "yQzkoOj3oEDA",
        "outputId": "86ffb8a7-2505-4c80-e57b-e04cd2483071"
      },
      "source": [
        "# Custom method for plotting the Confusion Matrix\n",
        "import itertools\n",
        "def plot_confusion_matrix(cm, classes,\n",
        "                          normalize=False,\n",
        "                          title='Confusion matrix',\n",
        "                          cmap=plt.cm.Blues):\n",
        "    if normalize:\n",
        "        cm = cm.astype('float') / cm.sum(axis=1)[:, np.newaxis]\n",
        "        print(\"Normalized confusion matrix\")\n",
        "    else:\n",
        "        print('Confusion matrix, without normalization')\n",
        "\n",
        "    plt.imshow(cm, interpolation='nearest', cmap=cmap)\n",
        "    plt.title(title)\n",
        "    plt.colorbar()\n",
        "    tick_marks = np.arange(len(classes))\n",
        "    plt.xticks(tick_marks, classes, rotation=45)\n",
        "    plt.yticks(tick_marks, classes)\n",
        "\n",
        "    fmt = '.2f' if normalize else 'd'\n",
        "    thresh = cm.max() / 2.\n",
        "    for i, j in itertools.product(range(cm.shape[0]), range(cm.shape[1])):\n",
        "        plt.text(j, i, format(cm[i, j], fmt),\n",
        "                 horizontalalignment=\"center\",\n",
        "                 color=\"white\" if cm[i, j] > thresh else \"black\")\n",
        "\n",
        "    plt.ylabel('True label')\n",
        "    plt.xlabel('Predicted label')\n",
        "    plt.tight_layout()\n",
        "\n",
        "# Plotting the confussion Matrix\n",
        "confussionMatrixRF = confusion_matrix(Y_test, y_dt_pred)\n",
        "np.set_printoptions(precision=2)\n",
        "plt.figure()\n",
        "plot_confusion_matrix(confussionMatrixRF, classes=['Liver Disease','Normal'], title='Confusion Matrix')"
      ],
      "execution_count": null,
      "outputs": [
        {
          "output_type": "stream",
          "name": "stdout",
          "text": [
            "Confusion matrix, without normalization\n"
          ]
        },
        {
          "output_type": "display_data",
          "data": {
            "image/png": "[encoded data removed]",
            "text/plain": [
              "<Figure size 432x288 with 2 Axes>"
            ]
          },
          "metadata": {
            "needs_background": "light"
          }
        }
      ]
    },
    {
      "cell_type": "markdown",
      "metadata": {
        "id": "0HYKAguOR1sp"
      },
      "source": [
        "**USING RANDOMIZEDSEARCH-CV-DT **"
      ]
    },
    {
      "cell_type": "code",
      "metadata": {
        "colab": {
          "base_uri": "https://localhost:8080/"
        },
        "id": "sX9CRJQo9fW3",
        "outputId": "bb6178b7-8573-4835-dbe5-c7966650360c"
      },
      "source": [
        "# Number of trees in dt\n",
        "# Number of features to consider at every split\n",
        "max_features = ['auto', 'sqrt','log2']\n",
        "# Maximum number of levels in tree\n",
        "max_depth = [int(x) for x in np.linspace(10, 1000,10)]\n",
        "# Minimum number of samples required to split a node\n",
        "min_samples_split = [2, 5, 10,14]\n",
        "# Minimum number of samples required at each leaf node\n",
        "min_samples_leaf = [1, 2, 4,6,8]\n",
        "# Create the random grid\n",
        "dt_random_grid = {'max_features': max_features,\n",
        "               'max_depth': max_depth,\n",
        "               'min_samples_split': min_samples_split,\n",
        "               'min_samples_leaf': min_samples_leaf,\n",
        "              'criterion':['entropy','gini']}\n",
        "print(dt_random_grid)"
      ],
      "execution_count": null,
      "outputs": [
        {
          "output_type": "stream",
          "name": "stdout",
          "text": [
            "{'max_features': ['auto', 'sqrt', 'log2'], 'max_depth': [10, 120, 230, 340, 450, 560, 670, 780, 890, 1000], 'min_samples_split': [2, 5, 10, 14], 'min_samples_leaf': [1, 2, 4, 6, 8], 'criterion': ['entropy', 'gini']}\n"
          ]
        }
      ]
    },
    {
      "cell_type": "code",
      "metadata": {
        "colab": {
          "base_uri": "https://localhost:8080/"
        },
        "id": "5hY313HwLD12",
        "outputId": "351da008-79fe-44b1-bc3e-2dcc60ee3459"
      },
      "source": [
        "dt=DecisionTreeClassifier(random_state=101)\n",
        "dt_randomcv=RandomizedSearchCV(estimator=dt,param_distributions=dt_random_grid,n_iter=100,cv=3,verbose=2,random_state=100)\n",
        "dt_randomcv.fit(X_train,Y_train)"
      ],
      "execution_count": null,
      "outputs": [
        {
          "output_type": "stream",
          "name": "stdout",
          "text": [
            "Fitting 3 folds for each of 100 candidates, totalling 300 fits\n",
            "[CV] END criterion=gini, max_depth=1000, max_features=log2, min_samples_leaf=2, min_samples_split=14; total time=   0.0s\n",
            "[CV] END criterion=gini, max_depth=1000, max_features=log2, min_samples_leaf=2, min_samples_split=14; total time=   0.0s\n",
            "[CV] END criterion=gini, max_depth=1000, max_features=log2, min_samples_leaf=2, min_samples_split=14; total time=   0.0s\n",
            "[CV] END criterion=entropy, max_depth=230, max_features=sqrt, min_samples_leaf=8, min_samples_split=5; total time=   0.0s\n",
            "[CV] END criterion=entropy, max_depth=230, max_features=sqrt, min_samples_leaf=8, min_samples_split=5; total time=   0.0s\n",
            "[CV] END criterion=entropy, max_depth=230, max_features=sqrt, min_samples_leaf=8, min_samples_split=5; total time=   0.0s\n",
            "[CV] END criterion=entropy, max_depth=890, max_features=auto, min_samples_leaf=1, min_samples_split=10; total time=   0.0s\n",
            "[CV] END criterion=entropy, max_depth=890, max_features=auto, min_samples_leaf=1, min_samples_split=10; total time=   0.0s\n",
            "[CV] END criterion=entropy, max_depth=890, max_features=auto, min_samples_leaf=1, min_samples_split=10; total time=   0.0s\n",
            "[CV] END criterion=entropy, max_depth=560, max_features=auto, min_samples_leaf=1, min_samples_split=5; total time=   0.0s\n",
            "[CV] END criterion=entropy, max_depth=560, max_features=auto, min_samples_leaf=1, min_samples_split=5; total time=   0.0s\n",
            "[CV] END criterion=entropy, max_depth=560, max_features=auto, min_samples_leaf=1, min_samples_split=5; total time=   0.0s\n",
            "[CV] END criterion=entropy, max_depth=670, max_features=sqrt, min_samples_leaf=1, min_samples_split=10; total time=   0.0s\n",
            "[CV] END criterion=entropy, max_depth=670, max_features=sqrt, min_samples_leaf=1, min_samples_split=10; total time=   0.0s\n",
            "[CV] END criterion=entropy, max_depth=670, max_features=sqrt, min_samples_leaf=1, min_samples_split=10; total time=   0.0s\n",
            "[CV] END criterion=entropy, max_depth=120, max_features=log2, min_samples_leaf=4, min_samples_split=10; total time=   0.0s\n",
            "[CV] END criterion=entropy, max_depth=120, max_features=log2, min_samples_leaf=4, min_samples_split=10; total time=   0.0s\n",
            "[CV] END criterion=entropy, max_depth=120, max_features=log2, min_samples_leaf=4, min_samples_split=10; total time=   0.0s\n",
            "[CV] END criterion=entropy, max_depth=670, max_features=log2, min_samples_leaf=2, min_samples_split=2; total time=   0.0s\n",
            "[CV] END criterion=entropy, max_depth=670, max_features=log2, min_samples_leaf=2, min_samples_split=2; total time=   0.0s\n",
            "[CV] END criterion=entropy, max_depth=670, max_features=log2, min_samples_leaf=2, min_samples_split=2; total time=   0.0s\n",
            "[CV] END criterion=gini, max_depth=450, max_features=auto, min_samples_leaf=1, min_samples_split=10; total time=   0.0s\n",
            "[CV] END criterion=gini, max_depth=450, max_features=auto, min_samples_leaf=1, min_samples_split=10; total time=   0.0s\n",
            "[CV] END criterion=gini, max_depth=450, max_features=auto, min_samples_leaf=1, min_samples_split=10; total time=   0.0s\n",
            "[CV] END criterion=gini, max_depth=120, max_features=sqrt, min_samples_leaf=4, min_samples_split=5; total time=   0.0s\n",
            "[CV] END criterion=gini, max_depth=120, max_features=sqrt, min_samples_leaf=4, min_samples_split=5; total time=   0.0s\n",
            "[CV] END criterion=gini, max_depth=120, max_features=sqrt, min_samples_leaf=4, min_samples_split=5; total time=   0.0s\n",
            "[CV] END criterion=gini, max_depth=10, max_features=sqrt, min_samples_leaf=2, min_samples_split=10; total time=   0.0s\n",
            "[CV] END criterion=gini, max_depth=10, max_features=sqrt, min_samples_leaf=2, min_samples_split=10; total time=   0.0s\n",
            "[CV] END criterion=gini, max_depth=10, max_features=sqrt, min_samples_leaf=2, min_samples_split=10; total time=   0.0s\n",
            "[CV] END criterion=entropy, max_depth=230, max_features=log2, min_samples_leaf=6, min_samples_split=5; total time=   0.0s\n",
            "[CV] END criterion=entropy, max_depth=230, max_features=log2, min_samples_leaf=6, min_samples_split=5; total time=   0.0s\n",
            "[CV] END criterion=entropy, max_depth=230, max_features=log2, min_samples_leaf=6, min_samples_split=5; total time=   0.0s\n",
            "[CV] END criterion=entropy, max_depth=890, max_features=auto, min_samples_leaf=4, min_samples_split=5; total time=   0.0s\n",
            "[CV] END criterion=entropy, max_depth=890, max_features=auto, min_samples_leaf=4, min_samples_split=5; total time=   0.0s\n",
            "[CV] END criterion=entropy, max_depth=890, max_features=auto, min_samples_leaf=4, min_samples_split=5; total time=   0.0s\n",
            "[CV] END criterion=entropy, max_depth=10, max_features=auto, min_samples_leaf=8, min_samples_split=14; total time=   0.0s\n",
            "[CV] END criterion=entropy, max_depth=10, max_features=auto, min_samples_leaf=8, min_samples_split=14; total time=   0.0s\n",
            "[CV] END criterion=entropy, max_depth=10, max_features=auto, min_samples_leaf=8, min_samples_split=14; total time=   0.0s\n",
            "[CV] END criterion=gini, max_depth=560, max_features=sqrt, min_samples_leaf=1, min_samples_split=14; total time=   0.0s\n",
            "[CV] END criterion=gini, max_depth=560, max_features=sqrt, min_samples_leaf=1, min_samples_split=14; total time=   0.0s\n",
            "[CV] END criterion=gini, max_depth=560, max_features=sqrt, min_samples_leaf=1, min_samples_split=14; total time=   0.0s\n",
            "[CV] END criterion=entropy, max_depth=560, max_features=log2, min_samples_leaf=2, min_samples_split=5; total time=   0.0s\n",
            "[CV] END criterion=entropy, max_depth=560, max_features=log2, min_samples_leaf=2, min_samples_split=5; total time=   0.0s\n",
            "[CV] END criterion=entropy, max_depth=560, max_features=log2, min_samples_leaf=2, min_samples_split=5; total time=   0.0s\n",
            "[CV] END criterion=gini, max_depth=780, max_features=auto, min_samples_leaf=6, min_samples_split=2; total time=   0.0s\n",
            "[CV] END criterion=gini, max_depth=780, max_features=auto, min_samples_leaf=6, min_samples_split=2; total time=   0.0s\n",
            "[CV] END criterion=gini, max_depth=780, max_features=auto, min_samples_leaf=6, min_samples_split=2; total time=   0.0s\n",
            "[CV] END criterion=gini, max_depth=120, max_features=auto, min_samples_leaf=2, min_samples_split=2; total time=   0.0s\n",
            "[CV] END criterion=gini, max_depth=120, max_features=auto, min_samples_leaf=2, min_samples_split=2; total time=   0.0s\n",
            "[CV] END criterion=gini, max_depth=120, max_features=auto, min_samples_leaf=2, min_samples_split=2; total time=   0.0s\n",
            "[CV] END criterion=entropy, max_depth=670, max_features=log2, min_samples_leaf=6, min_samples_split=5; total time=   0.0s\n",
            "[CV] END criterion=entropy, max_depth=670, max_features=log2, min_samples_leaf=6, min_samples_split=5; total time=   0.0s\n",
            "[CV] END criterion=entropy, max_depth=670, max_features=log2, min_samples_leaf=6, min_samples_split=5; total time=   0.0s\n",
            "[CV] END criterion=entropy, max_depth=670, max_features=log2, min_samples_leaf=1, min_samples_split=10; total time=   0.0s\n",
            "[CV] END criterion=entropy, max_depth=670, max_features=log2, min_samples_leaf=1, min_samples_split=10; total time=   0.0s\n",
            "[CV] END criterion=entropy, max_depth=670, max_features=log2, min_samples_leaf=1, min_samples_split=10; total time=   0.0s\n",
            "[CV] END criterion=gini, max_depth=340, max_features=log2, min_samples_leaf=4, min_samples_split=14; total time=   0.0s\n",
            "[CV] END criterion=gini, max_depth=340, max_features=log2, min_samples_leaf=4, min_samples_split=14; total time=   0.0s\n",
            "[CV] END criterion=gini, max_depth=340, max_features=log2, min_samples_leaf=4, min_samples_split=14; total time=   0.0s\n",
            "[CV] END criterion=entropy, max_depth=10, max_features=sqrt, min_samples_leaf=4, min_samples_split=14; total time=   0.0s\n",
            "[CV] END criterion=entropy, max_depth=10, max_features=sqrt, min_samples_leaf=4, min_samples_split=14; total time=   0.0s\n",
            "[CV] END criterion=entropy, max_depth=10, max_features=sqrt, min_samples_leaf=4, min_samples_split=14; total time=   0.0s\n",
            "[CV] END criterion=gini, max_depth=450, max_features=log2, min_samples_leaf=4, min_samples_split=14; total time=   0.0s\n",
            "[CV] END criterion=gini, max_depth=450, max_features=log2, min_samples_leaf=4, min_samples_split=14; total time=   0.0s\n",
            "[CV] END criterion=gini, max_depth=450, max_features=log2, min_samples_leaf=4, min_samples_split=14; total time=   0.0s\n",
            "[CV] END criterion=gini, max_depth=230, max_features=auto, min_samples_leaf=2, min_samples_split=10; total time=   0.0s\n",
            "[CV] END criterion=gini, max_depth=230, max_features=auto, min_samples_leaf=2, min_samples_split=10; total time=   0.0s\n",
            "[CV] END criterion=gini, max_depth=230, max_features=auto, min_samples_leaf=2, min_samples_split=10; total time=   0.0s\n",
            "[CV] END criterion=gini, max_depth=10, max_features=sqrt, min_samples_leaf=4, min_samples_split=5; total time=   0.0s\n",
            "[CV] END criterion=gini, max_depth=10, max_features=sqrt, min_samples_leaf=4, min_samples_split=5; total time=   0.0s\n",
            "[CV] END criterion=gini, max_depth=10, max_features=sqrt, min_samples_leaf=4, min_samples_split=5; total time=   0.0s\n",
            "[CV] END criterion=entropy, max_depth=670, max_features=auto, min_samples_leaf=6, min_samples_split=10; total time=   0.0s\n",
            "[CV] END criterion=entropy, max_depth=670, max_features=auto, min_samples_leaf=6, min_samples_split=10; total time=   0.0s\n",
            "[CV] END criterion=entropy, max_depth=670, max_features=auto, min_samples_leaf=6, min_samples_split=10; total time=   0.0s\n",
            "[CV] END criterion=entropy, max_depth=780, max_features=sqrt, min_samples_leaf=2, min_samples_split=14; total time=   0.0s\n",
            "[CV] END criterion=entropy, max_depth=780, max_features=sqrt, min_samples_leaf=2, min_samples_split=14; total time=   0.0s\n",
            "[CV] END criterion=entropy, max_depth=780, max_features=sqrt, min_samples_leaf=2, min_samples_split=14; total time=   0.0s\n",
            "[CV] END criterion=gini, max_depth=340, max_features=auto, min_samples_leaf=2, min_samples_split=2; total time=   0.0s\n",
            "[CV] END criterion=gini, max_depth=340, max_features=auto, min_samples_leaf=2, min_samples_split=2; total time=   0.0s\n",
            "[CV] END criterion=gini, max_depth=340, max_features=auto, min_samples_leaf=2, min_samples_split=2; total time=   0.0s\n",
            "[CV] END criterion=gini, max_depth=670, max_features=sqrt, min_samples_leaf=4, min_samples_split=10; total time=   0.0s\n",
            "[CV] END criterion=gini, max_depth=670, max_features=sqrt, min_samples_leaf=4, min_samples_split=10; total time=   0.0s\n",
            "[CV] END criterion=gini, max_depth=670, max_features=sqrt, min_samples_leaf=4, min_samples_split=10; total time=   0.0s\n",
            "[CV] END criterion=gini, max_depth=340, max_features=auto, min_samples_leaf=4, min_samples_split=10; total time=   0.0s\n",
            "[CV] END criterion=gini, max_depth=340, max_features=auto, min_samples_leaf=4, min_samples_split=10; total time=   0.0s\n",
            "[CV] END criterion=gini, max_depth=340, max_features=auto, min_samples_leaf=4, min_samples_split=10; total time=   0.0s\n",
            "[CV] END criterion=gini, max_depth=340, max_features=log2, min_samples_leaf=8, min_samples_split=5; total time=   0.0s\n",
            "[CV] END criterion=gini, max_depth=340, max_features=log2, min_samples_leaf=8, min_samples_split=5; total time=   0.0s\n",
            "[CV] END criterion=gini, max_depth=340, max_features=log2, min_samples_leaf=8, min_samples_split=5; total time=   0.0s\n",
            "[CV] END criterion=gini, max_depth=890, max_features=log2, min_samples_leaf=1, min_samples_split=2; total time=   0.0s\n",
            "[CV] END criterion=gini, max_depth=890, max_features=log2, min_samples_leaf=1, min_samples_split=2; total time=   0.0s\n",
            "[CV] END criterion=gini, max_depth=890, max_features=log2, min_samples_leaf=1, min_samples_split=2; total time=   0.0s\n",
            "[CV] END criterion=entropy, max_depth=10, max_features=auto, min_samples_leaf=6, min_samples_split=2; total time=   0.0s\n",
            "[CV] END criterion=entropy, max_depth=10, max_features=auto, min_samples_leaf=6, min_samples_split=2; total time=   0.0s\n",
            "[CV] END criterion=entropy, max_depth=10, max_features=auto, min_samples_leaf=6, min_samples_split=2; total time=   0.0s\n",
            "[CV] END criterion=gini, max_depth=340, max_features=log2, min_samples_leaf=1, min_samples_split=5; total time=   0.0s\n",
            "[CV] END criterion=gini, max_depth=340, max_features=log2, min_samples_leaf=1, min_samples_split=5; total time=   0.0s\n",
            "[CV] END criterion=gini, max_depth=340, max_features=log2, min_samples_leaf=1, min_samples_split=5; total time=   0.0s\n",
            "[CV] END criterion=entropy, max_depth=120, max_features=log2, min_samples_leaf=2, min_samples_split=2; total time=   0.0s\n",
            "[CV] END criterion=entropy, max_depth=120, max_features=log2, min_samples_leaf=2, min_samples_split=2; total time=   0.0s\n",
            "[CV] END criterion=entropy, max_depth=120, max_features=log2, min_samples_leaf=2, min_samples_split=2; total time=   0.0s\n",
            "[CV] END criterion=gini, max_depth=670, max_features=sqrt, min_samples_leaf=1, min_samples_split=2; total time=   0.0s\n",
            "[CV] END criterion=gini, max_depth=670, max_features=sqrt, min_samples_leaf=1, min_samples_split=2; total time=   0.0s\n",
            "[CV] END criterion=gini, max_depth=670, max_features=sqrt, min_samples_leaf=1, min_samples_split=2; total time=   0.0s\n",
            "[CV] END criterion=entropy, max_depth=890, max_features=sqrt, min_samples_leaf=4, min_samples_split=2; total time=   0.0s\n",
            "[CV] END criterion=entropy, max_depth=890, max_features=sqrt, min_samples_leaf=4, min_samples_split=2; total time=   0.0s\n",
            "[CV] END criterion=entropy, max_depth=890, max_features=sqrt, min_samples_leaf=4, min_samples_split=2; total time=   0.0s\n",
            "[CV] END criterion=entropy, max_depth=230, max_features=sqrt, min_samples_leaf=1, min_samples_split=10; total time=   0.0s\n",
            "[CV] END criterion=entropy, max_depth=230, max_features=sqrt, min_samples_leaf=1, min_samples_split=10; total time=   0.0s\n",
            "[CV] END criterion=entropy, max_depth=230, max_features=sqrt, min_samples_leaf=1, min_samples_split=10; total time=   0.0s\n",
            "[CV] END criterion=entropy, max_depth=120, max_features=log2, min_samples_leaf=8, min_samples_split=10; total time=   0.0s\n",
            "[CV] END criterion=entropy, max_depth=120, max_features=log2, min_samples_leaf=8, min_samples_split=10; total time=   0.0s\n",
            "[CV] END criterion=entropy, max_depth=120, max_features=log2, min_samples_leaf=8, min_samples_split=10; total time=   0.0s\n",
            "[CV] END criterion=entropy, max_depth=670, max_features=auto, min_samples_leaf=4, min_samples_split=10; total time=   0.0s\n",
            "[CV] END criterion=entropy, max_depth=670, max_features=auto, min_samples_leaf=4, min_samples_split=10; total time=   0.0s\n",
            "[CV] END criterion=entropy, max_depth=670, max_features=auto, min_samples_leaf=4, min_samples_split=10; total time=   0.0s\n",
            "[CV] END criterion=entropy, max_depth=450, max_features=auto, min_samples_leaf=4, min_samples_split=10; total time=   0.0s\n",
            "[CV] END criterion=entropy, max_depth=450, max_features=auto, min_samples_leaf=4, min_samples_split=10; total time=   0.0s\n",
            "[CV] END criterion=entropy, max_depth=450, max_features=auto, min_samples_leaf=4, min_samples_split=10; total time=   0.0s\n",
            "[CV] END criterion=gini, max_depth=670, max_features=auto, min_samples_leaf=6, min_samples_split=14; total time=   0.0s\n",
            "[CV] END criterion=gini, max_depth=670, max_features=auto, min_samples_leaf=6, min_samples_split=14; total time=   0.0s\n",
            "[CV] END criterion=gini, max_depth=670, max_features=auto, min_samples_leaf=6, min_samples_split=14; total time=   0.0s\n",
            "[CV] END criterion=gini, max_depth=10, max_features=auto, min_samples_leaf=6, min_samples_split=10; total time=   0.0s\n",
            "[CV] END criterion=gini, max_depth=10, max_features=auto, min_samples_leaf=6, min_samples_split=10; total time=   0.0s\n",
            "[CV] END criterion=gini, max_depth=10, max_features=auto, min_samples_leaf=6, min_samples_split=10; total time=   0.0s\n",
            "[CV] END criterion=entropy, max_depth=10, max_features=log2, min_samples_leaf=1, min_samples_split=14; total time=   0.0s\n",
            "[CV] END criterion=entropy, max_depth=10, max_features=log2, min_samples_leaf=1, min_samples_split=14; total time=   0.0s\n",
            "[CV] END criterion=entropy, max_depth=10, max_features=log2, min_samples_leaf=1, min_samples_split=14; total time=   0.0s\n",
            "[CV] END criterion=gini, max_depth=560, max_features=log2, min_samples_leaf=1, min_samples_split=14; total time=   0.0s\n",
            "[CV] END criterion=gini, max_depth=560, max_features=log2, min_samples_leaf=1, min_samples_split=14; total time=   0.0s\n",
            "[CV] END criterion=gini, max_depth=560, max_features=log2, min_samples_leaf=1, min_samples_split=14; total time=   0.0s\n",
            "[CV] END criterion=gini, max_depth=340, max_features=sqrt, min_samples_leaf=8, min_samples_split=2; total time=   0.0s\n",
            "[CV] END criterion=gini, max_depth=340, max_features=sqrt, min_samples_leaf=8, min_samples_split=2; total time=   0.0s\n",
            "[CV] END criterion=gini, max_depth=340, max_features=sqrt, min_samples_leaf=8, min_samples_split=2; total time=   0.0s\n",
            "[CV] END criterion=entropy, max_depth=560, max_features=auto, min_samples_leaf=8, min_samples_split=10; total time=   0.0s\n",
            "[CV] END criterion=entropy, max_depth=560, max_features=auto, min_samples_leaf=8, min_samples_split=10; total time=   0.0s\n",
            "[CV] END criterion=entropy, max_depth=560, max_features=auto, min_samples_leaf=8, min_samples_split=10; total time=   0.0s\n",
            "[CV] END criterion=gini, max_depth=1000, max_features=sqrt, min_samples_leaf=8, min_samples_split=10; total time=   0.0s\n",
            "[CV] END criterion=gini, max_depth=1000, max_features=sqrt, min_samples_leaf=8, min_samples_split=10; total time=   0.0s\n",
            "[CV] END criterion=gini, max_depth=1000, max_features=sqrt, min_samples_leaf=8, min_samples_split=10; total time=   0.0s\n",
            "[CV] END criterion=gini, max_depth=780, max_features=auto, min_samples_leaf=6, min_samples_split=14; total time=   0.0s\n",
            "[CV] END criterion=gini, max_depth=780, max_features=auto, min_samples_leaf=6, min_samples_split=14; total time=   0.0s\n",
            "[CV] END criterion=gini, max_depth=780, max_features=auto, min_samples_leaf=6, min_samples_split=14; total time=   0.0s\n",
            "[CV] END criterion=entropy, max_depth=230, max_features=auto, min_samples_leaf=8, min_samples_split=14; total time=   0.0s\n",
            "[CV] END criterion=entropy, max_depth=230, max_features=auto, min_samples_leaf=8, min_samples_split=14; total time=   0.0s\n",
            "[CV] END criterion=entropy, max_depth=230, max_features=auto, min_samples_leaf=8, min_samples_split=14; total time=   0.0s\n",
            "[CV] END criterion=gini, max_depth=120, max_features=sqrt, min_samples_leaf=2, min_samples_split=10; total time=   0.0s\n",
            "[CV] END criterion=gini, max_depth=120, max_features=sqrt, min_samples_leaf=2, min_samples_split=10; total time=   0.0s\n",
            "[CV] END criterion=gini, max_depth=120, max_features=sqrt, min_samples_leaf=2, min_samples_split=10; total time=   0.0s\n",
            "[CV] END criterion=entropy, max_depth=890, max_features=sqrt, min_samples_leaf=8, min_samples_split=5; total time=   0.0s\n",
            "[CV] END criterion=entropy, max_depth=890, max_features=sqrt, min_samples_leaf=8, min_samples_split=5; total time=   0.0s\n",
            "[CV] END criterion=entropy, max_depth=890, max_features=sqrt, min_samples_leaf=8, min_samples_split=5; total time=   0.0s\n",
            "[CV] END criterion=gini, max_depth=670, max_features=log2, min_samples_leaf=4, min_samples_split=2; total time=   0.0s\n",
            "[CV] END criterion=gini, max_depth=670, max_features=log2, min_samples_leaf=4, min_samples_split=2; total time=   0.0s\n",
            "[CV] END criterion=gini, max_depth=670, max_features=log2, min_samples_leaf=4, min_samples_split=2; total time=   0.0s\n",
            "[CV] END criterion=gini, max_depth=340, max_features=auto, min_samples_leaf=8, min_samples_split=14; total time=   0.0s\n",
            "[CV] END criterion=gini, max_depth=340, max_features=auto, min_samples_leaf=8, min_samples_split=14; total time=   0.0s\n",
            "[CV] END criterion=gini, max_depth=340, max_features=auto, min_samples_leaf=8, min_samples_split=14; total time=   0.0s\n",
            "[CV] END criterion=entropy, max_depth=450, max_features=log2, min_samples_leaf=4, min_samples_split=5; total time=   0.0s\n",
            "[CV] END criterion=entropy, max_depth=450, max_features=log2, min_samples_leaf=4, min_samples_split=5; total time=   0.0s\n",
            "[CV] END criterion=entropy, max_depth=450, max_features=log2, min_samples_leaf=4, min_samples_split=5; total time=   0.0s\n",
            "[CV] END criterion=gini, max_depth=230, max_features=log2, min_samples_leaf=6, min_samples_split=10; total time=   0.0s\n",
            "[CV] END criterion=gini, max_depth=230, max_features=log2, min_samples_leaf=6, min_samples_split=10; total time=   0.0s\n",
            "[CV] END criterion=gini, max_depth=230, max_features=log2, min_samples_leaf=6, min_samples_split=10; total time=   0.0s\n",
            "[CV] END criterion=entropy, max_depth=1000, max_features=log2, min_samples_leaf=8, min_samples_split=2; total time=   0.0s\n",
            "[CV] END criterion=entropy, max_depth=1000, max_features=log2, min_samples_leaf=8, min_samples_split=2; total time=   0.0s\n",
            "[CV] END criterion=entropy, max_depth=1000, max_features=log2, min_samples_leaf=8, min_samples_split=2; total time=   0.0s\n",
            "[CV] END criterion=entropy, max_depth=450, max_features=sqrt, min_samples_leaf=2, min_samples_split=10; total time=   0.0s\n",
            "[CV] END criterion=entropy, max_depth=450, max_features=sqrt, min_samples_leaf=2, min_samples_split=10; total time=   0.0s\n",
            "[CV] END criterion=entropy, max_depth=450, max_features=sqrt, min_samples_leaf=2, min_samples_split=10; total time=   0.0s\n",
            "[CV] END criterion=gini, max_depth=450, max_features=sqrt, min_samples_leaf=2, min_samples_split=5; total time=   0.0s\n",
            "[CV] END criterion=gini, max_depth=450, max_features=sqrt, min_samples_leaf=2, min_samples_split=5; total time=   0.0s\n",
            "[CV] END criterion=gini, max_depth=450, max_features=sqrt, min_samples_leaf=2, min_samples_split=5; total time=   0.0s\n",
            "[CV] END criterion=gini, max_depth=10, max_features=auto, min_samples_leaf=1, min_samples_split=10; total time=   0.0s\n",
            "[CV] END criterion=gini, max_depth=10, max_features=auto, min_samples_leaf=1, min_samples_split=10; total time=   0.0s\n",
            "[CV] END criterion=gini, max_depth=10, max_features=auto, min_samples_leaf=1, min_samples_split=10; total time=   0.0s\n",
            "[CV] END criterion=entropy, max_depth=890, max_features=auto, min_samples_leaf=2, min_samples_split=2; total time=   0.0s\n",
            "[CV] END criterion=entropy, max_depth=890, max_features=auto, min_samples_leaf=2, min_samples_split=2; total time=   0.0s\n",
            "[CV] END criterion=entropy, max_depth=890, max_features=auto, min_samples_leaf=2, min_samples_split=2; total time=   0.0s\n",
            "[CV] END criterion=gini, max_depth=10, max_features=sqrt, min_samples_leaf=4, min_samples_split=10; total time=   0.0s\n",
            "[CV] END criterion=gini, max_depth=10, max_features=sqrt, min_samples_leaf=4, min_samples_split=10; total time=   0.0s\n",
            "[CV] END criterion=gini, max_depth=10, max_features=sqrt, min_samples_leaf=4, min_samples_split=10; total time=   0.0s\n",
            "[CV] END criterion=gini, max_depth=340, max_features=log2, min_samples_leaf=8, min_samples_split=10; total time=   0.0s\n",
            "[CV] END criterion=gini, max_depth=340, max_features=log2, min_samples_leaf=8, min_samples_split=10; total time=   0.0s\n",
            "[CV] END criterion=gini, max_depth=340, max_features=log2, min_samples_leaf=8, min_samples_split=10; total time=   0.0s\n",
            "[CV] END criterion=entropy, max_depth=890, max_features=sqrt, min_samples_leaf=4, min_samples_split=10; total time=   0.0s\n",
            "[CV] END criterion=entropy, max_depth=890, max_features=sqrt, min_samples_leaf=4, min_samples_split=10; total time=   0.0s\n",
            "[CV] END criterion=entropy, max_depth=890, max_features=sqrt, min_samples_leaf=4, min_samples_split=10; total time=   0.0s\n",
            "[CV] END criterion=entropy, max_depth=670, max_features=log2, min_samples_leaf=8, min_samples_split=2; total time=   0.0s\n",
            "[CV] END criterion=entropy, max_depth=670, max_features=log2, min_samples_leaf=8, min_samples_split=2; total time=   0.0s\n",
            "[CV] END criterion=entropy, max_depth=670, max_features=log2, min_samples_leaf=8, min_samples_split=2; total time=   0.0s\n",
            "[CV] END criterion=entropy, max_depth=560, max_features=sqrt, min_samples_leaf=1, min_samples_split=2; total time=   0.0s\n",
            "[CV] END criterion=entropy, max_depth=560, max_features=sqrt, min_samples_leaf=1, min_samples_split=2; total time=   0.0s\n",
            "[CV] END criterion=entropy, max_depth=560, max_features=sqrt, min_samples_leaf=1, min_samples_split=2; total time=   0.0s\n",
            "[CV] END criterion=gini, max_depth=450, max_features=log2, min_samples_leaf=8, min_samples_split=10; total time=   0.0s\n",
            "[CV] END criterion=gini, max_depth=450, max_features=log2, min_samples_leaf=8, min_samples_split=10; total time=   0.0s\n",
            "[CV] END criterion=gini, max_depth=450, max_features=log2, min_samples_leaf=8, min_samples_split=10; total time=   0.0s\n",
            "[CV] END criterion=entropy, max_depth=340, max_features=log2, min_samples_leaf=8, min_samples_split=14; total time=   0.0s\n",
            "[CV] END criterion=entropy, max_depth=340, max_features=log2, min_samples_leaf=8, min_samples_split=14; total time=   0.0s\n",
            "[CV] END criterion=entropy, max_depth=340, max_features=log2, min_samples_leaf=8, min_samples_split=14; total time=   0.0s\n",
            "[CV] END criterion=entropy, max_depth=230, max_features=log2, min_samples_leaf=4, min_samples_split=5; total time=   0.0s\n",
            "[CV] END criterion=entropy, max_depth=230, max_features=log2, min_samples_leaf=4, min_samples_split=5; total time=   0.0s\n",
            "[CV] END criterion=entropy, max_depth=230, max_features=log2, min_samples_leaf=4, min_samples_split=5; total time=   0.0s\n",
            "[CV] END criterion=gini, max_depth=780, max_features=auto, min_samples_leaf=1, min_samples_split=2; total time=   0.0s\n",
            "[CV] END criterion=gini, max_depth=780, max_features=auto, min_samples_leaf=1, min_samples_split=2; total time=   0.0s\n",
            "[CV] END criterion=gini, max_depth=780, max_features=auto, min_samples_leaf=1, min_samples_split=2; total time=   0.0s\n",
            "[CV] END criterion=gini, max_depth=340, max_features=log2, min_samples_leaf=2, min_samples_split=2; total time=   0.0s\n",
            "[CV] END criterion=gini, max_depth=340, max_features=log2, min_samples_leaf=2, min_samples_split=2; total time=   0.0s\n",
            "[CV] END criterion=gini, max_depth=340, max_features=log2, min_samples_leaf=2, min_samples_split=2; total time=   0.0s\n",
            "[CV] END criterion=entropy, max_depth=230, max_features=log2, min_samples_leaf=6, min_samples_split=10; total time=   0.0s\n",
            "[CV] END criterion=entropy, max_depth=230, max_features=log2, min_samples_leaf=6, min_samples_split=10; total time=   0.0s\n",
            "[CV] END criterion=entropy, max_depth=230, max_features=log2, min_samples_leaf=6, min_samples_split=10; total time=   0.0s\n",
            "[CV] END criterion=gini, max_depth=1000, max_features=sqrt, min_samples_leaf=1, min_samples_split=5; total time=   0.0s\n",
            "[CV] END criterion=gini, max_depth=1000, max_features=sqrt, min_samples_leaf=1, min_samples_split=5; total time=   0.0s\n",
            "[CV] END criterion=gini, max_depth=1000, max_features=sqrt, min_samples_leaf=1, min_samples_split=5; total time=   0.0s\n",
            "[CV] END criterion=gini, max_depth=10, max_features=auto, min_samples_leaf=4, min_samples_split=10; total time=   0.0s\n",
            "[CV] END criterion=gini, max_depth=10, max_features=auto, min_samples_leaf=4, min_samples_split=10; total time=   0.0s\n",
            "[CV] END criterion=gini, max_depth=10, max_features=auto, min_samples_leaf=4, min_samples_split=10; total time=   0.0s\n",
            "[CV] END criterion=entropy, max_depth=890, max_features=sqrt, min_samples_leaf=6, min_samples_split=2; total time=   0.0s\n",
            "[CV] END criterion=entropy, max_depth=890, max_features=sqrt, min_samples_leaf=6, min_samples_split=2; total time=   0.0s\n",
            "[CV] END criterion=entropy, max_depth=890, max_features=sqrt, min_samples_leaf=6, min_samples_split=2; total time=   0.0s\n",
            "[CV] END criterion=entropy, max_depth=10, max_features=log2, min_samples_leaf=6, min_samples_split=10; total time=   0.0s\n",
            "[CV] END criterion=entropy, max_depth=10, max_features=log2, min_samples_leaf=6, min_samples_split=10; total time=   0.0s\n",
            "[CV] END criterion=entropy, max_depth=10, max_features=log2, min_samples_leaf=6, min_samples_split=10; total time=   0.0s\n",
            "[CV] END criterion=entropy, max_depth=120, max_features=auto, min_samples_leaf=2, min_samples_split=14; total time=   0.0s\n",
            "[CV] END criterion=entropy, max_depth=120, max_features=auto, min_samples_leaf=2, min_samples_split=14; total time=   0.0s\n",
            "[CV] END criterion=entropy, max_depth=120, max_features=auto, min_samples_leaf=2, min_samples_split=14; total time=   0.0s\n",
            "[CV] END criterion=gini, max_depth=10, max_features=log2, min_samples_leaf=2, min_samples_split=2; total time=   0.0s\n",
            "[CV] END criterion=gini, max_depth=10, max_features=log2, min_samples_leaf=2, min_samples_split=2; total time=   0.0s\n",
            "[CV] END criterion=gini, max_depth=10, max_features=log2, min_samples_leaf=2, min_samples_split=2; total time=   0.0s\n",
            "[CV] END criterion=gini, max_depth=340, max_features=sqrt, min_samples_leaf=2, min_samples_split=5; total time=   0.0s\n",
            "[CV] END criterion=gini, max_depth=340, max_features=sqrt, min_samples_leaf=2, min_samples_split=5; total time=   0.0s\n",
            "[CV] END criterion=gini, max_depth=340, max_features=sqrt, min_samples_leaf=2, min_samples_split=5; total time=   0.0s\n",
            "[CV] END criterion=entropy, max_depth=230, max_features=log2, min_samples_leaf=4, min_samples_split=10; total time=   0.0s\n",
            "[CV] END criterion=entropy, max_depth=230, max_features=log2, min_samples_leaf=4, min_samples_split=10; total time=   0.0s\n",
            "[CV] END criterion=entropy, max_depth=230, max_features=log2, min_samples_leaf=4, min_samples_split=10; total time=   0.0s\n",
            "[CV] END criterion=gini, max_depth=230, max_features=auto, min_samples_leaf=4, min_samples_split=10; total time=   0.0s\n",
            "[CV] END criterion=gini, max_depth=230, max_features=auto, min_samples_leaf=4, min_samples_split=10; total time=   0.0s\n",
            "[CV] END criterion=gini, max_depth=230, max_features=auto, min_samples_leaf=4, min_samples_split=10; total time=   0.0s\n",
            "[CV] END criterion=entropy, max_depth=450, max_features=log2, min_samples_leaf=8, min_samples_split=14; total time=   0.0s\n",
            "[CV] END criterion=entropy, max_depth=450, max_features=log2, min_samples_leaf=8, min_samples_split=14; total time=   0.0s\n",
            "[CV] END criterion=entropy, max_depth=450, max_features=log2, min_samples_leaf=8, min_samples_split=14; total time=   0.0s\n",
            "[CV] END criterion=entropy, max_depth=10, max_features=log2, min_samples_leaf=8, min_samples_split=2; total time=   0.0s\n",
            "[CV] END criterion=entropy, max_depth=10, max_features=log2, min_samples_leaf=8, min_samples_split=2; total time=   0.0s\n",
            "[CV] END criterion=entropy, max_depth=10, max_features=log2, min_samples_leaf=8, min_samples_split=2; total time=   0.0s\n",
            "[CV] END criterion=gini, max_depth=10, max_features=sqrt, min_samples_leaf=8, min_samples_split=5; total time=   0.0s\n",
            "[CV] END criterion=gini, max_depth=10, max_features=sqrt, min_samples_leaf=8, min_samples_split=5; total time=   0.0s\n",
            "[CV] END criterion=gini, max_depth=10, max_features=sqrt, min_samples_leaf=8, min_samples_split=5; total time=   0.0s\n",
            "[CV] END criterion=entropy, max_depth=890, max_features=log2, min_samples_leaf=4, min_samples_split=10; total time=   0.0s\n",
            "[CV] END criterion=entropy, max_depth=890, max_features=log2, min_samples_leaf=4, min_samples_split=10; total time=   0.0s\n",
            "[CV] END criterion=entropy, max_depth=890, max_features=log2, min_samples_leaf=4, min_samples_split=10; total time=   0.0s\n",
            "[CV] END criterion=gini, max_depth=890, max_features=log2, min_samples_leaf=4, min_samples_split=14; total time=   0.0s\n",
            "[CV] END criterion=gini, max_depth=890, max_features=log2, min_samples_leaf=4, min_samples_split=14; total time=   0.0s\n",
            "[CV] END criterion=gini, max_depth=890, max_features=log2, min_samples_leaf=4, min_samples_split=14; total time=   0.0s\n",
            "[CV] END criterion=entropy, max_depth=1000, max_features=sqrt, min_samples_leaf=2, min_samples_split=14; total time=   0.0s\n",
            "[CV] END criterion=entropy, max_depth=1000, max_features=sqrt, min_samples_leaf=2, min_samples_split=14; total time=   0.0s\n",
            "[CV] END criterion=entropy, max_depth=1000, max_features=sqrt, min_samples_leaf=2, min_samples_split=14; total time=   0.0s\n",
            "[CV] END criterion=entropy, max_depth=780, max_features=auto, min_samples_leaf=1, min_samples_split=2; total time=   0.0s\n",
            "[CV] END criterion=entropy, max_depth=780, max_features=auto, min_samples_leaf=1, min_samples_split=2; total time=   0.0s\n",
            "[CV] END criterion=entropy, max_depth=780, max_features=auto, min_samples_leaf=1, min_samples_split=2; total time=   0.0s\n",
            "[CV] END criterion=entropy, max_depth=340, max_features=sqrt, min_samples_leaf=1, min_samples_split=2; total time=   0.0s\n",
            "[CV] END criterion=entropy, max_depth=340, max_features=sqrt, min_samples_leaf=1, min_samples_split=2; total time=   0.0s\n",
            "[CV] END criterion=entropy, max_depth=340, max_features=sqrt, min_samples_leaf=1, min_samples_split=2; total time=   0.0s\n",
            "[CV] END criterion=gini, max_depth=560, max_features=sqrt, min_samples_leaf=1, min_samples_split=5; total time=   0.0s\n",
            "[CV] END criterion=gini, max_depth=560, max_features=sqrt, min_samples_leaf=1, min_samples_split=5; total time=   0.0s\n",
            "[CV] END criterion=gini, max_depth=560, max_features=sqrt, min_samples_leaf=1, min_samples_split=5; total time=   0.0s\n",
            "[CV] END criterion=gini, max_depth=1000, max_features=sqrt, min_samples_leaf=6, min_samples_split=14; total time=   0.0s\n",
            "[CV] END criterion=gini, max_depth=1000, max_features=sqrt, min_samples_leaf=6, min_samples_split=14; total time=   0.0s\n",
            "[CV] END criterion=gini, max_depth=1000, max_features=sqrt, min_samples_leaf=6, min_samples_split=14; total time=   0.0s\n",
            "[CV] END criterion=gini, max_depth=1000, max_features=auto, min_samples_leaf=1, min_samples_split=5; total time=   0.0s\n",
            "[CV] END criterion=gini, max_depth=1000, max_features=auto, min_samples_leaf=1, min_samples_split=5; total time=   0.0s\n",
            "[CV] END criterion=gini, max_depth=1000, max_features=auto, min_samples_leaf=1, min_samples_split=5; total time=   0.0s\n",
            "[CV] END criterion=entropy, max_depth=780, max_features=auto, min_samples_leaf=6, min_samples_split=2; total time=   0.0s\n",
            "[CV] END criterion=entropy, max_depth=780, max_features=auto, min_samples_leaf=6, min_samples_split=2; total time=   0.0s\n",
            "[CV] END criterion=entropy, max_depth=780, max_features=auto, min_samples_leaf=6, min_samples_split=2; total time=   0.0s\n",
            "[CV] END criterion=entropy, max_depth=890, max_features=sqrt, min_samples_leaf=6, min_samples_split=14; total time=   0.0s\n",
            "[CV] END criterion=entropy, max_depth=890, max_features=sqrt, min_samples_leaf=6, min_samples_split=14; total time=   0.0s\n",
            "[CV] END criterion=entropy, max_depth=890, max_features=sqrt, min_samples_leaf=6, min_samples_split=14; total time=   0.0s\n",
            "[CV] END criterion=entropy, max_depth=890, max_features=log2, min_samples_leaf=1, min_samples_split=5; total time=   0.0s\n",
            "[CV] END criterion=entropy, max_depth=890, max_features=log2, min_samples_leaf=1, min_samples_split=5; total time=   0.0s\n",
            "[CV] END criterion=entropy, max_depth=890, max_features=log2, min_samples_leaf=1, min_samples_split=5; total time=   0.0s\n",
            "[CV] END criterion=gini, max_depth=780, max_features=log2, min_samples_leaf=8, min_samples_split=10; total time=   0.0s\n",
            "[CV] END criterion=gini, max_depth=780, max_features=log2, min_samples_leaf=8, min_samples_split=10; total time=   0.0s\n",
            "[CV] END criterion=gini, max_depth=780, max_features=log2, min_samples_leaf=8, min_samples_split=10; total time=   0.0s\n",
            "[CV] END criterion=gini, max_depth=670, max_features=log2, min_samples_leaf=1, min_samples_split=14; total time=   0.0s\n",
            "[CV] END criterion=gini, max_depth=670, max_features=log2, min_samples_leaf=1, min_samples_split=14; total time=   0.0s\n",
            "[CV] END criterion=gini, max_depth=670, max_features=log2, min_samples_leaf=1, min_samples_split=14; total time=   0.0s\n",
            "[CV] END criterion=entropy, max_depth=780, max_features=sqrt, min_samples_leaf=4, min_samples_split=10; total time=   0.0s\n",
            "[CV] END criterion=entropy, max_depth=780, max_features=sqrt, min_samples_leaf=4, min_samples_split=10; total time=   0.0s\n",
            "[CV] END criterion=entropy, max_depth=780, max_features=sqrt, min_samples_leaf=4, min_samples_split=10; total time=   0.0s\n",
            "[CV] END criterion=entropy, max_depth=120, max_features=log2, min_samples_leaf=8, min_samples_split=2; total time=   0.0s\n",
            "[CV] END criterion=entropy, max_depth=120, max_features=log2, min_samples_leaf=8, min_samples_split=2; total time=   0.0s\n",
            "[CV] END criterion=entropy, max_depth=120, max_features=log2, min_samples_leaf=8, min_samples_split=2; total time=   0.0s\n",
            "[CV] END criterion=entropy, max_depth=230, max_features=log2, min_samples_leaf=8, min_samples_split=10; total time=   0.0s\n",
            "[CV] END criterion=entropy, max_depth=230, max_features=log2, min_samples_leaf=8, min_samples_split=10; total time=   0.0s\n",
            "[CV] END criterion=entropy, max_depth=230, max_features=log2, min_samples_leaf=8, min_samples_split=10; total time=   0.0s\n",
            "[CV] END criterion=gini, max_depth=890, max_features=log2, min_samples_leaf=6, min_samples_split=5; total time=   0.0s\n",
            "[CV] END criterion=gini, max_depth=890, max_features=log2, min_samples_leaf=6, min_samples_split=5; total time=   0.0s\n",
            "[CV] END criterion=gini, max_depth=890, max_features=log2, min_samples_leaf=6, min_samples_split=5; total time=   0.0s\n"
          ]
        },
        {
          "output_type": "execute_result",
          "data": {
            "text/plain": [
              "RandomizedSearchCV(cv=3, estimator=DecisionTreeClassifier(random_state=101),\n",
              "                   n_iter=100,\n",
              "                   param_distributions={'criterion': ['entropy', 'gini'],\n",
              "                                        'max_depth': [10, 120, 230, 340, 450,\n",
              "                                                      560, 670, 780, 890,\n",
              "                                                      1000],\n",
              "                                        'max_features': ['auto', 'sqrt',\n",
              "                                                         'log2'],\n",
              "                                        'min_samples_leaf': [1, 2, 4, 6, 8],\n",
              "                                        'min_samples_split': [2, 5, 10, 14]},\n",
              "                   random_state=100, verbose=2)"
            ]
          },
          "metadata": {},
          "execution_count": 84
        }
      ]
    },
    {
      "cell_type": "code",
      "metadata": {
        "colab": {
          "base_uri": "https://localhost:8080/"
        },
        "id": "a4X2aKiJr3UL",
        "outputId": "ad1ef13a-5319-4fac-83b3-21fac7b8daf8"
      },
      "source": [
        "dt_randomcv.best_params_"
      ],
      "execution_count": null,
      "outputs": [
        {
          "output_type": "execute_result",
          "data": {
            "text/plain": [
              "{'criterion': 'entropy',\n",
              " 'max_depth': 560,\n",
              " 'max_features': 'sqrt',\n",
              " 'min_samples_leaf': 1,\n",
              " 'min_samples_split': 2}"
            ]
          },
          "metadata": {},
          "execution_count": 85
        }
      ]
    },
    {
      "cell_type": "code",
      "metadata": {
        "colab": {
          "base_uri": "https://localhost:8080/"
        },
        "id": "dP1Rhly8r_Be",
        "outputId": "285c205c-ca43-4ffc-fd4f-23556feea847"
      },
      "source": [
        "dt_randomcv.best_estimator_"
      ],
      "execution_count": null,
      "outputs": [
        {
          "output_type": "execute_result",
          "data": {
            "text/plain": [
              "DecisionTreeClassifier(criterion='entropy', max_depth=560, max_features='sqrt',\n",
              "                       random_state=101)"
            ]
          },
          "metadata": {},
          "execution_count": 86
        }
      ]
    },
    {
      "cell_type": "code",
      "metadata": {
        "id": "es0Lp-boslxC"
      },
      "source": [
        "dt_best_random_model=dt_randomcv.best_estimator_"
      ],
      "execution_count": null,
      "outputs": []
    },
    {
      "cell_type": "code",
      "metadata": {
        "id": "iKyAN3ars1ZW"
      },
      "source": [
        "y_dt_rs_pred = dt_best_random_model.predict(X_test)"
      ],
      "execution_count": null,
      "outputs": []
    },
    {
      "cell_type": "code",
      "metadata": {
        "colab": {
          "base_uri": "https://localhost:8080/"
        },
        "id": "6B0K4EtLtH1m",
        "outputId": "e37142ca-c4db-407d-acb8-d540d74d0392"
      },
      "source": [
        "print(\"DT Accuracy:\",accuracy_score(Y_test, y_dt_rs_pred))\n",
        "print('DT Precision: %.3f' % precision_score(Y_test, y_dt_rs_pred))\n",
        "print('DT Recall: %.3f' % recall_score(Y_test, y_dt_rs_pred))\n",
        "print('DT F1 Score: %.3f' % f1_score(Y_test, y_dt_rs_pred))\n",
        "print('DT Confusion matrix: \\n', confusion_matrix(Y_test, y_dt_rs_pred))\n",
        "print('cohens kappa \\n', cohen_kappa_score(Y_test, y_dt_rs_pred))\n",
        "print('ROC_AUC score \\n', roc_auc_score(Y_test, y_dt_rs_pred))"
      ],
      "execution_count": null,
      "outputs": [
        {
          "output_type": "stream",
          "name": "stdout",
          "text": [
            "DT Accuracy: 0.9966921409832326\n",
            "DT Precision: 0.998\n",
            "DT Recall: 0.995\n",
            "DT F1 Score: 0.997\n",
            "DT Confusion matrix: \n",
            " [[4363    7]\n",
            " [  22 4375]]\n",
            "cohens kappa \n",
            " 0.9933842889384997\n",
            "ROC_AUC score \n",
            " 0.9966973789597547\n"
          ]
        }
      ]
    },
    {
      "cell_type": "code",
      "metadata": {
        "colab": {
          "base_uri": "https://localhost:8080/",
          "height": 294
        },
        "id": "KB9AaKOwTcYT",
        "outputId": "22a7f8e6-ef2e-4329-ff29-0fc7728bd7ef"
      },
      "source": [
        "#print(classification_report(Y_test, y_pred))\n",
        "fprDTRS, tprDTRS, thresholdDTRS = roc_curve(Y_test, y_dt_rs_pred)\n",
        "roc_auc = auc(fprDTRS, thresholdDTRS)\n",
        "\n",
        "plt.title('Receiver Operating Characteristic')\n",
        "plt.plot(fprDTRS, tprDTRS, 'b', label = 'AUC = %0.2f' % roc_auc)\n",
        "plt.legend(loc = 'lower right')\n",
        "plt.plot([0, 1], [0, 1],'r--')\n",
        "plt.xlim([0, 1])\n",
        "plt.ylim([0, 1])\n",
        "plt.ylabel('True Positive Rate')\n",
        "plt.xlabel('False Positive Rate')\n",
        "plt.show()"
      ],
      "execution_count": null,
      "outputs": [
        {
          "output_type": "display_data",
          "data": {
            "image/png": "[encoded data removed]",
            "text/plain": [
              "<Figure size 432x288 with 1 Axes>"
            ]
          },
          "metadata": {
            "needs_background": "light"
          }
        }
      ]
    },
    {
      "cell_type": "code",
      "metadata": {
        "colab": {
          "base_uri": "https://localhost:8080/",
          "height": 314
        },
        "id": "4zDqaajEtQre",
        "outputId": "72e0d718-6c3c-4428-f576-ffd815c86696"
      },
      "source": [
        "# Custom method for plotting the Confusion Matrix\n",
        "import itertools\n",
        "def plot_confusion_matrix(cm, classes,\n",
        "                          normalize=False,\n",
        "                          title='Confusion matrix',\n",
        "                          cmap=plt.cm.Blues):\n",
        "    if normalize:\n",
        "        cm = cm.astype('float') / cm.sum(axis=1)[:, np.newaxis]\n",
        "        print(\"Normalized confusion matrix\")\n",
        "    else:\n",
        "        print('Confusion matrix, without normalization')\n",
        "\n",
        "    plt.imshow(cm, interpolation='nearest', cmap=cmap)\n",
        "    plt.title(title)\n",
        "    plt.colorbar()\n",
        "    tick_marks = np.arange(len(classes))\n",
        "    plt.xticks(tick_marks, classes, rotation=45)\n",
        "    plt.yticks(tick_marks, classes)\n",
        "\n",
        "    fmt = '.2f' if normalize else 'd'\n",
        "    thresh = cm.max() / 2.\n",
        "    for i, j in itertools.product(range(cm.shape[0]), range(cm.shape[1])):\n",
        "        plt.text(j, i, format(cm[i, j], fmt),\n",
        "                 horizontalalignment=\"center\",\n",
        "                 color=\"white\" if cm[i, j] > thresh else \"black\")\n",
        "\n",
        "    plt.ylabel('True label')\n",
        "    plt.xlabel('Predicted label')\n",
        "    plt.tight_layout()\n",
        "\n",
        "# Plotting the confussion Matrix\n",
        "confussionMatrixRF = confusion_matrix(Y_test, y_dt_rs_pred)\n",
        "np.set_printoptions(precision=2)\n",
        "plt.figure()\n",
        "plot_confusion_matrix(confussionMatrixRF, classes=['Liver Disease','Normal'], title='Confusion Matrix')"
      ],
      "execution_count": null,
      "outputs": [
        {
          "output_type": "stream",
          "name": "stdout",
          "text": [
            "Confusion matrix, without normalization\n"
          ]
        },
        {
          "output_type": "display_data",
          "data": {
            "image/png": "[encoded data removed]",
            "text/plain": [
              "<Figure size 432x288 with 2 Axes>"
            ]
          },
          "metadata": {
            "needs_background": "light"
          }
        }
      ]
    },
    {
      "cell_type": "code",
      "metadata": {
        "id": "RXPqCvJ13xKW"
      },
      "source": [
        ""
      ],
      "execution_count": null,
      "outputs": []
    },
    {
      "cell_type": "markdown",
      "metadata": {
        "id": "z_sQRWqg2r8Y"
      },
      "source": [
        "*USING GRIDDSEARCH-DT*"
      ]
    },
    {
      "cell_type": "code",
      "metadata": {
        "colab": {
          "base_uri": "https://localhost:8080/"
        },
        "id": "o5Jb-9_Y2_Ag",
        "outputId": "b0adf5ff-44a9-4604-b16e-abcb8442b09e"
      },
      "source": [
        "dt_param_grid = {\n",
        "    'criterion': [dt_randomcv.best_params_['criterion']],\n",
        "    'max_depth': [dt_randomcv.best_params_['max_depth']],\n",
        "    'max_features': [dt_randomcv.best_params_['max_features']],\n",
        "    'min_samples_leaf': [dt_randomcv.best_params_['min_samples_leaf'], \n",
        "                         dt_randomcv.best_params_['min_samples_leaf']+2, \n",
        "                         dt_randomcv.best_params_['min_samples_leaf'] + 4],\n",
        "    'min_samples_split': [dt_randomcv.best_params_['min_samples_split'] - 2,\n",
        "                          dt_randomcv.best_params_['min_samples_split'] - 1,\n",
        "                          dt_randomcv.best_params_['min_samples_split'], \n",
        "                          dt_randomcv.best_params_['min_samples_split'] +1,\n",
        "                          dt_randomcv.best_params_['min_samples_split'] + 2],\n",
        "}\n",
        "\n",
        "print(dt_param_grid)"
      ],
      "execution_count": null,
      "outputs": [
        {
          "output_type": "stream",
          "name": "stdout",
          "text": [
            "{'criterion': ['entropy'], 'max_depth': [560], 'max_features': ['sqrt'], 'min_samples_leaf': [1, 3, 5], 'min_samples_split': [0, 1, 2, 3, 4]}\n"
          ]
        }
      ]
    },
    {
      "cell_type": "code",
      "metadata": {
        "colab": {
          "base_uri": "https://localhost:8080/"
        },
        "id": "ho8A1WW24gsY",
        "outputId": "1d32e92a-160a-4f98-f4f1-bbd79b193cdc"
      },
      "source": [
        "dt=DecisionTreeClassifier()\n",
        "dt_gridcv=GridSearchCV(estimator=dt,param_grid=dt_param_grid,n_jobs=-1,cv=10,verbose=2)\n",
        "dt_gridcv.fit(X_train,Y_train)"
      ],
      "execution_count": null,
      "outputs": [
        {
          "output_type": "stream",
          "name": "stdout",
          "text": [
            "Fitting 10 folds for each of 15 candidates, totalling 150 fits\n"
          ]
        },
        {
          "output_type": "stream",
          "name": "stderr",
          "text": [
            "/usr/local/lib/python3.7/dist-packages/sklearn/model_selection/_validation.py:372: FitFailedWarning: \n",
            "60 fits failed out of a total of 150.\n",
            "The score on these train-test partitions for these parameters will be set to nan.\n",
            "If these failures are not expected, you can try to debug them by setting error_score='raise'.\n",
            "\n",
            "Below are more details about the failures:\n",
            "--------------------------------------------------------------------------------\n",
            "30 fits failed with the following error:\n",
            "Traceback (most recent call last):\n",
            "  File \"/usr/local/lib/python3.7/dist-packages/sklearn/model_selection/_validation.py\", line 680, in _fit_and_score\n",
            "    estimator.fit(X_train, y_train, **fit_params)\n",
            "  File \"/usr/local/lib/python3.7/dist-packages/sklearn/tree/_classes.py\", line 942, in fit\n",
            "    X_idx_sorted=X_idx_sorted,\n",
            "  File \"/usr/local/lib/python3.7/dist-packages/sklearn/tree/_classes.py\", line 254, in fit\n",
            "    % self.min_samples_split\n",
            "ValueError: min_samples_split must be an integer greater than 1 or a float in (0.0, 1.0]; got the integer 0\n",
            "\n",
            "--------------------------------------------------------------------------------\n",
            "30 fits failed with the following error:\n",
            "Traceback (most recent call last):\n",
            "  File \"/usr/local/lib/python3.7/dist-packages/sklearn/model_selection/_validation.py\", line 680, in _fit_and_score\n",
            "    estimator.fit(X_train, y_train, **fit_params)\n",
            "  File \"/usr/local/lib/python3.7/dist-packages/sklearn/tree/_classes.py\", line 942, in fit\n",
            "    X_idx_sorted=X_idx_sorted,\n",
            "  File \"/usr/local/lib/python3.7/dist-packages/sklearn/tree/_classes.py\", line 254, in fit\n",
            "    % self.min_samples_split\n",
            "ValueError: min_samples_split must be an integer greater than 1 or a float in (0.0, 1.0]; got the integer 1\n",
            "\n",
            "  warnings.warn(some_fits_failed_message, FitFailedWarning)\n",
            "/usr/local/lib/python3.7/dist-packages/sklearn/model_selection/_search.py:972: UserWarning: One or more of the test scores are non-finite: [ nan  nan 1.   1.   1.    nan  nan 0.99 0.99 0.99  nan  nan 0.99 0.99\n",
            " 0.99]\n",
            "  category=UserWarning,\n"
          ]
        },
        {
          "output_type": "execute_result",
          "data": {
            "text/plain": [
              "GridSearchCV(cv=10, estimator=DecisionTreeClassifier(), n_jobs=-1,\n",
              "             param_grid={'criterion': ['entropy'], 'max_depth': [560],\n",
              "                         'max_features': ['sqrt'],\n",
              "                         'min_samples_leaf': [1, 3, 5],\n",
              "                         'min_samples_split': [0, 1, 2, 3, 4]},\n",
              "             verbose=2)"
            ]
          },
          "metadata": {},
          "execution_count": 94
        }
      ]
    },
    {
      "cell_type": "code",
      "metadata": {
        "id": "ut0k7fLb6tIl"
      },
      "source": [
        "dt_best_grid_model=dt_gridcv.best_estimator_"
      ],
      "execution_count": null,
      "outputs": []
    },
    {
      "cell_type": "code",
      "metadata": {
        "colab": {
          "base_uri": "https://localhost:8080/"
        },
        "id": "WMwP61L78Hoe",
        "outputId": "96588e12-1fc4-4431-90a5-329476fcfffc"
      },
      "source": [
        "dt_best_grid_model"
      ],
      "execution_count": null,
      "outputs": [
        {
          "output_type": "execute_result",
          "data": {
            "text/plain": [
              "DecisionTreeClassifier(criterion='entropy', max_depth=560, max_features='sqrt')"
            ]
          },
          "metadata": {},
          "execution_count": 96
        }
      ]
    },
    {
      "cell_type": "code",
      "metadata": {
        "id": "oOvmzbzY8lOG"
      },
      "source": [
        "y_dt_gs_pred = dt_best_grid_model.predict(X_test)"
      ],
      "execution_count": null,
      "outputs": []
    },
    {
      "cell_type": "code",
      "metadata": {
        "colab": {
          "base_uri": "https://localhost:8080/"
        },
        "id": "V93NYFzJ8l8l",
        "outputId": "2d9765c4-c9d7-4b62-f477-7ab27e775812"
      },
      "source": [
        "print(\"DT Accuracy:\",accuracy_score(Y_test, y_dt_gs_pred))\n",
        "print('DT Precision: %.3f' % precision_score(Y_test, y_dt_gs_pred))\n",
        "print('DT Recall: %.3f' % recall_score(Y_test, y_dt_gs_pred))\n",
        "print('DT F1 Score: %.3f' % f1_score(Y_test, y_dt_gs_pred))\n",
        "print('DT Confusion matrix: \\n', confusion_matrix(Y_test, y_dt_gs_pred))\n",
        "print('cohens kappa \\n', cohen_kappa_score(Y_test, y_dt_gs_pred))\n",
        "print('ROC_AUC score \\n', roc_auc_score(Y_test, y_dt_gs_pred))"
      ],
      "execution_count": null,
      "outputs": [
        {
          "output_type": "stream",
          "name": "stdout",
          "text": [
            "DT Accuracy: 0.997034333295312\n",
            "DT Precision: 0.998\n",
            "DT Recall: 0.996\n",
            "DT F1 Score: 0.997\n",
            "DT Confusion matrix: \n",
            " [[4362    8]\n",
            " [  18 4379]]\n",
            "cohens kappa \n",
            " 0.9940686520053968\n",
            "ROC_AUC score \n",
            " 0.9970378180671345\n"
          ]
        }
      ]
    },
    {
      "cell_type": "code",
      "metadata": {
        "colab": {
          "base_uri": "https://localhost:8080/",
          "height": 294
        },
        "id": "4x0JFGfGThA_",
        "outputId": "47e25ca0-d697-4df7-dbe8-62d7c27a5b14"
      },
      "source": [
        "#print(classification_report(Y_test, y_pred))\n",
        "fprDTGS, tprDTGS, thresholdDTGS = roc_curve(Y_test, y_dt_gs_pred)\n",
        "roc_auc = auc(fprDTGS, thresholdDTGS)\n",
        "\n",
        "plt.title('Receiver Operating Characteristic')\n",
        "plt.plot(fprDTGS, tprDTGS, 'b', label = 'AUC = %0.2f' % roc_auc)\n",
        "plt.legend(loc = 'lower right')\n",
        "plt.plot([0, 1], [0, 1],'r--')\n",
        "plt.xlim([0, 1])\n",
        "plt.ylim([0, 1])\n",
        "plt.ylabel('True Positive Rate')\n",
        "plt.xlabel('False Positive Rate')\n",
        "plt.show()"
      ],
      "execution_count": null,
      "outputs": [
        {
          "output_type": "display_data",
          "data": {
            "image/png": "[encoded data removed]",
            "text/plain": [
              "<Figure size 432x288 with 1 Axes>"
            ]
          },
          "metadata": {
            "needs_background": "light"
          }
        }
      ]
    },
    {
      "cell_type": "code",
      "metadata": {
        "colab": {
          "base_uri": "https://localhost:8080/",
          "height": 314
        },
        "id": "OcL3k0OM9JTS",
        "outputId": "8de16199-7888-41ba-c3d8-339457e27539"
      },
      "source": [
        "# Custom method for plotting the Confusion Matrix\n",
        "import itertools\n",
        "def plot_confusion_matrix(cm, classes,\n",
        "                          normalize=False,\n",
        "                          title='Confusion matrix',\n",
        "                          cmap=plt.cm.Blues):\n",
        "    if normalize:\n",
        "        cm = cm.astype('float') / cm.sum(axis=1)[:, np.newaxis]\n",
        "        print(\"Normalized confusion matrix\")\n",
        "    else:\n",
        "        print('Confusion matrix, without normalization')\n",
        "\n",
        "    plt.imshow(cm, interpolation='nearest', cmap=cmap)\n",
        "    plt.title(title)\n",
        "    plt.colorbar()\n",
        "    tick_marks = np.arange(len(classes))\n",
        "    plt.xticks(tick_marks, classes, rotation=45)\n",
        "    plt.yticks(tick_marks, classes)\n",
        "\n",
        "    fmt = '.2f' if normalize else 'd'\n",
        "    thresh = cm.max() / 2.\n",
        "    for i, j in itertools.product(range(cm.shape[0]), range(cm.shape[1])):\n",
        "        plt.text(j, i, format(cm[i, j], fmt),\n",
        "                 horizontalalignment=\"center\",\n",
        "                 color=\"white\" if cm[i, j] > thresh else \"black\")\n",
        "\n",
        "    plt.ylabel('True label')\n",
        "    plt.xlabel('Predicted label')\n",
        "    plt.tight_layout()\n",
        "\n",
        "# Plotting the confussion Matrix\n",
        "confussionMatrixRF = confusion_matrix(Y_test, y_dt_gs_pred)\n",
        "np.set_printoptions(precision=2)\n",
        "plt.figure()\n",
        "plot_confusion_matrix(confussionMatrixRF, classes=['Liver Disease','Normal'], title='Confusion Matrix')"
      ],
      "execution_count": null,
      "outputs": [
        {
          "output_type": "stream",
          "name": "stdout",
          "text": [
            "Confusion matrix, without normalization\n"
          ]
        },
        {
          "output_type": "display_data",
          "data": {
            "image/png": "[encoded data removed]",
            "text/plain": [
              "<Figure size 432x288 with 2 Axes>"
            ]
          },
          "metadata": {
            "needs_background": "light"
          }
        }
      ]
    },
    {
      "cell_type": "markdown",
      "metadata": {
        "id": "qA-OT6PnMuxH"
      },
      "source": [
        "**LOGISTIC REGRESSION SEGMENT**\n",
        "\n",
        "> Indented block\n",
        "\n"
      ]
    },
    {
      "cell_type": "code",
      "metadata": {
        "colab": {
          "base_uri": "https://localhost:8080/"
        },
        "id": "IMC17Y6LLNUS",
        "outputId": "e6b27a6c-f639-4da3-ab95-b8fa238245a7"
      },
      "source": [
        "lr_model=LogisticRegression(random_state=101)\n",
        "lr_model.fit(X_train, Y_train)\n",
        "\n",
        "print(lr_model.intercept_)\n",
        "print(lr_model.coef_)\n",
        "\n",
        "\n",
        "#Predict\n",
        "y_lr_pred = lr_model.predict(X_test)"
      ],
      "execution_count": null,
      "outputs": [
        {
          "output_type": "stream",
          "name": "stdout",
          "text": [
            "[-0.26]\n",
            "[[-0.   -0.06  0.01  0.47  0.    0.01  0.    0.14 -0.43 -0.31]]\n"
          ]
        },
        {
          "output_type": "stream",
          "name": "stderr",
          "text": [
            "/usr/local/lib/python3.7/dist-packages/sklearn/linear_model/_logistic.py:818: ConvergenceWarning: lbfgs failed to converge (status=1):\n",
            "STOP: TOTAL NO. of ITERATIONS REACHED LIMIT.\n",
            "\n",
            "Increase the number of iterations (max_iter) or scale the data as shown in:\n",
            "    https://scikit-learn.org/stable/modules/preprocessing.html\n",
            "Please also refer to the documentation for alternative solver options:\n",
            "    https://scikit-learn.org/stable/modules/linear_model.html#logistic-regression\n",
            "  extra_warning_msg=_LOGISTIC_SOLVER_CONVERGENCE_MSG,\n"
          ]
        }
      ]
    },
    {
      "cell_type": "code",
      "metadata": {
        "colab": {
          "base_uri": "https://localhost:8080/"
        },
        "id": "NvovpqxVLPOh",
        "outputId": "827f3c46-06f8-48ef-807b-4fbee57d656e"
      },
      "source": [
        "from sklearn import metrics\n",
        "print(\"LR Accuracy:\",accuracy_score(Y_test, y_lr_pred))\n",
        "print('LR Precision: %.3f' % precision_score(Y_test, y_lr_pred))\n",
        "print('LR Recall: %.3f' % recall_score(Y_test, y_lr_pred))\n",
        "print('LR F1 Score: %.3f' % f1_score(Y_test, y_lr_pred))\n",
        "print('LR Confusion matrix: \\n', confusion_matrix(Y_test, y_lr_pred))\n",
        "print('cohens kappa \\n', cohen_kappa_score(Y_test,y_lr_pred))\n",
        "print('ROC_AUC score \\n', roc_auc_score(Y_test,y_lr_pred))"
      ],
      "execution_count": null,
      "outputs": [
        {
          "output_type": "stream",
          "name": "stdout",
          "text": [
            "LR Accuracy: 0.6996692140983233\n",
            "LR Precision: 0.779\n",
            "LR Recall: 0.560\n",
            "LR F1 Score: 0.651\n",
            "LR Confusion matrix: \n",
            " [[3673  697]\n",
            " [1936 2461]]\n",
            "cohens kappa \n",
            " 0.399855155181573\n",
            "ROC_AUC score \n",
            " 0.7001016139046333\n"
          ]
        }
      ]
    },
    {
      "cell_type": "code",
      "metadata": {
        "colab": {
          "base_uri": "https://localhost:8080/",
          "height": 294
        },
        "id": "v8jtQmc4TjAv",
        "outputId": "bbd8cadf-f822-4202-c980-bf36e0c44daa"
      },
      "source": [
        "#print(classification_report(Y_test, y_pred))\n",
        "fprLR, tprLR, thresholdLR = roc_curve(Y_test, y_lr_pred)\n",
        "roc_auc = auc(fprLR, thresholdLR)\n",
        "\n",
        "plt.title('Receiver Operating Characteristic')\n",
        "plt.plot(fprLR, tprLR, 'b', label = 'AUC = %0.2f' % roc_auc)\n",
        "plt.legend(loc = 'lower right')\n",
        "plt.plot([0, 1], [0, 1],'r--')\n",
        "plt.xlim([0, 1])\n",
        "plt.ylim([0, 1])\n",
        "plt.ylabel('True Positive Rate')\n",
        "plt.xlabel('False Positive Rate')\n",
        "plt.show()"
      ],
      "execution_count": null,
      "outputs": [
        {
          "output_type": "display_data",
          "data": {
            "image/png": "[encoded data removed]",
            "text/plain": [
              "<Figure size 432x288 with 1 Axes>"
            ]
          },
          "metadata": {
            "needs_background": "light"
          }
        }
      ]
    },
    {
      "cell_type": "code",
      "metadata": {
        "colab": {
          "base_uri": "https://localhost:8080/",
          "height": 314
        },
        "id": "lnmBSF4St7BK",
        "outputId": "75fcf281-b150-4eb9-a830-3df2e981f797"
      },
      "source": [
        "# Custom method for plotting the Confusion Matrix\n",
        "import itertools\n",
        "def plot_confusion_matrix(cm, classes,\n",
        "                          normalize=False,\n",
        "                          title='Confusion matrix',\n",
        "                          cmap=plt.cm.Blues):\n",
        "    if normalize:\n",
        "        cm = cm.astype('float') / cm.sum(axis=1)[:, np.newaxis]\n",
        "        print(\"Normalized confusion matrix\")\n",
        "    else:\n",
        "        print('Confusion matrix, without normalization')\n",
        "\n",
        "    plt.imshow(cm, interpolation='nearest', cmap=cmap)\n",
        "    plt.title(title)\n",
        "    plt.colorbar()\n",
        "    tick_marks = np.arange(len(classes))\n",
        "    plt.xticks(tick_marks, classes, rotation=45)\n",
        "    plt.yticks(tick_marks, classes)\n",
        "\n",
        "    fmt = '.2f' if normalize else 'd'\n",
        "    thresh = cm.max() / 2.\n",
        "    for i, j in itertools.product(range(cm.shape[0]), range(cm.shape[1])):\n",
        "        plt.text(j, i, format(cm[i, j], fmt),\n",
        "                 horizontalalignment=\"center\",\n",
        "                 color=\"white\" if cm[i, j] > thresh else \"black\")\n",
        "\n",
        "    plt.ylabel('True label')\n",
        "    plt.xlabel('Predicted label')\n",
        "    plt.tight_layout()\n",
        "\n",
        "# Plotting the confussion Matrix\n",
        "confussionMatrixRF = confusion_matrix(Y_test, y_lr_pred)\n",
        "np.set_printoptions(precision=2)\n",
        "plt.figure()\n",
        "plot_confusion_matrix(confussionMatrixRF, classes=['Liver Disease','Normal'], title='Confusion Matrix')"
      ],
      "execution_count": null,
      "outputs": [
        {
          "output_type": "stream",
          "name": "stdout",
          "text": [
            "Confusion matrix, without normalization\n"
          ]
        },
        {
          "output_type": "display_data",
          "data": {
            "image/png": "[encoded data removed]",
            "text/plain": [
              "<Figure size 432x288 with 2 Axes>"
            ]
          },
          "metadata": {
            "needs_background": "light"
          }
        }
      ]
    },
    {
      "cell_type": "markdown",
      "metadata": {
        "id": "dyRGryNqvktG"
      },
      "source": [
        "***USING RANDOMSEARCH-CV--LR***"
      ]
    },
    {
      "cell_type": "code",
      "metadata": {
        "colab": {
          "base_uri": "https://localhost:8080/"
        },
        "id": "iaQ0TQTwv6wq",
        "outputId": "66de8c39-7559-4f73-fe8c-d129b6cfb016"
      },
      "source": [
        "penalty = ['l1', 'l2', 'elasticnet', 'none']\n",
        "dual = [True , False]\n",
        "class_weight = ['balanced', 'None']\n",
        "max_iter = [100,200,250]\n",
        "lr_random_grid = {'penalty': penalty, 'dual': dual, 'class_weight': class_weight, 'max_iter': max_iter}\n",
        "print(lr_random_grid)"
      ],
      "execution_count": null,
      "outputs": [
        {
          "output_type": "stream",
          "name": "stdout",
          "text": [
            "{'penalty': ['l1', 'l2', 'elasticnet', 'none'], 'dual': [True, False], 'class_weight': ['balanced', 'None'], 'max_iter': [100, 200, 250]}\n"
          ]
        }
      ]
    },
    {
      "cell_type": "code",
      "metadata": {
        "colab": {
          "base_uri": "https://localhost:8080/"
        },
        "id": "fl4V2BizFTHa",
        "outputId": "69095810-f1c4-4159-ebc5-dd325da4e7ea"
      },
      "source": [
        "lr=LogisticRegression(random_state=101)\n",
        "lr_randomcv=RandomizedSearchCV(estimator=lr,param_distributions=lr_random_grid,cv=3,verbose=2,random_state=101)\n",
        "lr_randomcv.fit(X_train,Y_train)"
      ],
      "execution_count": null,
      "outputs": [
        {
          "output_type": "stream",
          "name": "stdout",
          "text": [
            "Fitting 3 folds for each of 10 candidates, totalling 30 fits\n",
            "[CV] END class_weight=None, dual=False, max_iter=100, penalty=l1; total time=   0.0s\n",
            "[CV] END class_weight=None, dual=False, max_iter=100, penalty=l1; total time=   0.0s\n",
            "[CV] END class_weight=None, dual=False, max_iter=100, penalty=l1; total time=   0.0s\n",
            "[CV] END class_weight=balanced, dual=False, max_iter=250, penalty=elasticnet; total time=   0.0s\n",
            "[CV] END class_weight=balanced, dual=False, max_iter=250, penalty=elasticnet; total time=   0.0s\n",
            "[CV] END class_weight=balanced, dual=False, max_iter=250, penalty=elasticnet; total time=   0.0s\n",
            "[CV] END class_weight=balanced, dual=False, max_iter=250, penalty=l1; total time=   0.0s\n",
            "[CV] END class_weight=balanced, dual=False, max_iter=250, penalty=l1; total time=   0.0s\n",
            "[CV] END class_weight=balanced, dual=False, max_iter=250, penalty=l1; total time=   0.0s\n",
            "[CV] END class_weight=None, dual=False, max_iter=100, penalty=elasticnet; total time=   0.0s\n",
            "[CV] END class_weight=None, dual=False, max_iter=100, penalty=elasticnet; total time=   0.0s\n",
            "[CV] END class_weight=None, dual=False, max_iter=100, penalty=elasticnet; total time=   0.0s\n",
            "[CV] END class_weight=balanced, dual=False, max_iter=200, penalty=elasticnet; total time=   0.0s\n",
            "[CV] END class_weight=balanced, dual=False, max_iter=200, penalty=elasticnet; total time=   0.0s\n",
            "[CV] END class_weight=balanced, dual=False, max_iter=200, penalty=elasticnet; total time=   0.0s\n",
            "[CV] END class_weight=balanced, dual=True, max_iter=100, penalty=l2; total time=   0.0s\n",
            "[CV] END class_weight=balanced, dual=True, max_iter=100, penalty=l2; total time=   0.0s\n",
            "[CV] END class_weight=balanced, dual=True, max_iter=100, penalty=l2; total time=   0.0s\n",
            "[CV] END class_weight=None, dual=False, max_iter=250, penalty=l1; total time=   0.0s\n",
            "[CV] END class_weight=None, dual=False, max_iter=250, penalty=l1; total time=   0.0s\n",
            "[CV] END class_weight=None, dual=False, max_iter=250, penalty=l1; total time=   0.0s\n"
          ]
        },
        {
          "output_type": "stream",
          "name": "stderr",
          "text": [
            "/usr/local/lib/python3.7/dist-packages/sklearn/linear_model/_logistic.py:818: ConvergenceWarning: lbfgs failed to converge (status=1):\n",
            "STOP: TOTAL NO. of ITERATIONS REACHED LIMIT.\n",
            "\n",
            "Increase the number of iterations (max_iter) or scale the data as shown in:\n",
            "    https://scikit-learn.org/stable/modules/preprocessing.html\n",
            "Please also refer to the documentation for alternative solver options:\n",
            "    https://scikit-learn.org/stable/modules/linear_model.html#logistic-regression\n",
            "  extra_warning_msg=_LOGISTIC_SOLVER_CONVERGENCE_MSG,\n"
          ]
        },
        {
          "output_type": "stream",
          "name": "stdout",
          "text": [
            "[CV] END class_weight=balanced, dual=False, max_iter=250, penalty=l2; total time=   1.0s\n"
          ]
        },
        {
          "output_type": "stream",
          "name": "stderr",
          "text": [
            "/usr/local/lib/python3.7/dist-packages/sklearn/linear_model/_logistic.py:818: ConvergenceWarning: lbfgs failed to converge (status=1):\n",
            "STOP: TOTAL NO. of ITERATIONS REACHED LIMIT.\n",
            "\n",
            "Increase the number of iterations (max_iter) or scale the data as shown in:\n",
            "    https://scikit-learn.org/stable/modules/preprocessing.html\n",
            "Please also refer to the documentation for alternative solver options:\n",
            "    https://scikit-learn.org/stable/modules/linear_model.html#logistic-regression\n",
            "  extra_warning_msg=_LOGISTIC_SOLVER_CONVERGENCE_MSG,\n"
          ]
        },
        {
          "output_type": "stream",
          "name": "stdout",
          "text": [
            "[CV] END class_weight=balanced, dual=False, max_iter=250, penalty=l2; total time=   1.1s\n"
          ]
        },
        {
          "output_type": "stream",
          "name": "stderr",
          "text": [
            "/usr/local/lib/python3.7/dist-packages/sklearn/linear_model/_logistic.py:818: ConvergenceWarning: lbfgs failed to converge (status=1):\n",
            "STOP: TOTAL NO. of ITERATIONS REACHED LIMIT.\n",
            "\n",
            "Increase the number of iterations (max_iter) or scale the data as shown in:\n",
            "    https://scikit-learn.org/stable/modules/preprocessing.html\n",
            "Please also refer to the documentation for alternative solver options:\n",
            "    https://scikit-learn.org/stable/modules/linear_model.html#logistic-regression\n",
            "  extra_warning_msg=_LOGISTIC_SOLVER_CONVERGENCE_MSG,\n"
          ]
        },
        {
          "output_type": "stream",
          "name": "stdout",
          "text": [
            "[CV] END class_weight=balanced, dual=False, max_iter=250, penalty=l2; total time=   1.0s\n",
            "[CV] END class_weight=balanced, dual=False, max_iter=200, penalty=l1; total time=   0.0s\n",
            "[CV] END class_weight=balanced, dual=False, max_iter=200, penalty=l1; total time=   0.0s\n",
            "[CV] END class_weight=balanced, dual=False, max_iter=200, penalty=l1; total time=   0.0s\n"
          ]
        },
        {
          "output_type": "stream",
          "name": "stderr",
          "text": [
            "/usr/local/lib/python3.7/dist-packages/sklearn/linear_model/_logistic.py:818: ConvergenceWarning: lbfgs failed to converge (status=1):\n",
            "STOP: TOTAL NO. of ITERATIONS REACHED LIMIT.\n",
            "\n",
            "Increase the number of iterations (max_iter) or scale the data as shown in:\n",
            "    https://scikit-learn.org/stable/modules/preprocessing.html\n",
            "Please also refer to the documentation for alternative solver options:\n",
            "    https://scikit-learn.org/stable/modules/linear_model.html#logistic-regression\n",
            "  extra_warning_msg=_LOGISTIC_SOLVER_CONVERGENCE_MSG,\n"
          ]
        },
        {
          "output_type": "stream",
          "name": "stdout",
          "text": [
            "[CV] END class_weight=None, dual=False, max_iter=250, penalty=l2; total time=   1.0s\n"
          ]
        },
        {
          "output_type": "stream",
          "name": "stderr",
          "text": [
            "/usr/local/lib/python3.7/dist-packages/sklearn/linear_model/_logistic.py:818: ConvergenceWarning: lbfgs failed to converge (status=1):\n",
            "STOP: TOTAL NO. of ITERATIONS REACHED LIMIT.\n",
            "\n",
            "Increase the number of iterations (max_iter) or scale the data as shown in:\n",
            "    https://scikit-learn.org/stable/modules/preprocessing.html\n",
            "Please also refer to the documentation for alternative solver options:\n",
            "    https://scikit-learn.org/stable/modules/linear_model.html#logistic-regression\n",
            "  extra_warning_msg=_LOGISTIC_SOLVER_CONVERGENCE_MSG,\n"
          ]
        },
        {
          "output_type": "stream",
          "name": "stdout",
          "text": [
            "[CV] END class_weight=None, dual=False, max_iter=250, penalty=l2; total time=   1.1s\n"
          ]
        },
        {
          "output_type": "stream",
          "name": "stderr",
          "text": [
            "/usr/local/lib/python3.7/dist-packages/sklearn/linear_model/_logistic.py:818: ConvergenceWarning: lbfgs failed to converge (status=1):\n",
            "STOP: TOTAL NO. of ITERATIONS REACHED LIMIT.\n",
            "\n",
            "Increase the number of iterations (max_iter) or scale the data as shown in:\n",
            "    https://scikit-learn.org/stable/modules/preprocessing.html\n",
            "Please also refer to the documentation for alternative solver options:\n",
            "    https://scikit-learn.org/stable/modules/linear_model.html#logistic-regression\n",
            "  extra_warning_msg=_LOGISTIC_SOLVER_CONVERGENCE_MSG,\n",
            "/usr/local/lib/python3.7/dist-packages/sklearn/model_selection/_validation.py:372: FitFailedWarning: \n",
            "24 fits failed out of a total of 30.\n",
            "The score on these train-test partitions for these parameters will be set to nan.\n",
            "If these failures are not expected, you can try to debug them by setting error_score='raise'.\n",
            "\n",
            "Below are more details about the failures:\n",
            "--------------------------------------------------------------------------------\n",
            "12 fits failed with the following error:\n",
            "Traceback (most recent call last):\n",
            "  File \"/usr/local/lib/python3.7/dist-packages/sklearn/model_selection/_validation.py\", line 680, in _fit_and_score\n",
            "    estimator.fit(X_train, y_train, **fit_params)\n",
            "  File \"/usr/local/lib/python3.7/dist-packages/sklearn/linear_model/_logistic.py\", line 1461, in fit\n",
            "    solver = _check_solver(self.solver, self.penalty, self.dual)\n",
            "  File \"/usr/local/lib/python3.7/dist-packages/sklearn/linear_model/_logistic.py\", line 449, in _check_solver\n",
            "    % (solver, penalty)\n",
            "ValueError: Solver lbfgs supports only 'l2' or 'none' penalties, got l1 penalty.\n",
            "\n",
            "--------------------------------------------------------------------------------\n",
            "9 fits failed with the following error:\n",
            "Traceback (most recent call last):\n",
            "  File \"/usr/local/lib/python3.7/dist-packages/sklearn/model_selection/_validation.py\", line 680, in _fit_and_score\n",
            "    estimator.fit(X_train, y_train, **fit_params)\n",
            "  File \"/usr/local/lib/python3.7/dist-packages/sklearn/linear_model/_logistic.py\", line 1461, in fit\n",
            "    solver = _check_solver(self.solver, self.penalty, self.dual)\n",
            "  File \"/usr/local/lib/python3.7/dist-packages/sklearn/linear_model/_logistic.py\", line 449, in _check_solver\n",
            "    % (solver, penalty)\n",
            "ValueError: Solver lbfgs supports only 'l2' or 'none' penalties, got elasticnet penalty.\n",
            "\n",
            "--------------------------------------------------------------------------------\n",
            "3 fits failed with the following error:\n",
            "Traceback (most recent call last):\n",
            "  File \"/usr/local/lib/python3.7/dist-packages/sklearn/model_selection/_validation.py\", line 680, in _fit_and_score\n",
            "    estimator.fit(X_train, y_train, **fit_params)\n",
            "  File \"/usr/local/lib/python3.7/dist-packages/sklearn/linear_model/_logistic.py\", line 1461, in fit\n",
            "    solver = _check_solver(self.solver, self.penalty, self.dual)\n",
            "  File \"/usr/local/lib/python3.7/dist-packages/sklearn/linear_model/_logistic.py\", line 453, in _check_solver\n",
            "    \"Solver %s supports only dual=False, got dual=%s\" % (solver, dual)\n",
            "ValueError: Solver lbfgs supports only dual=False, got dual=True\n",
            "\n",
            "  warnings.warn(some_fits_failed_message, FitFailedWarning)\n",
            "/usr/local/lib/python3.7/dist-packages/sklearn/model_selection/_search.py:972: UserWarning: One or more of the test scores are non-finite: [ nan  nan  nan  nan  nan  nan  nan 0.71  nan 0.7 ]\n",
            "  category=UserWarning,\n"
          ]
        },
        {
          "output_type": "stream",
          "name": "stdout",
          "text": [
            "[CV] END class_weight=None, dual=False, max_iter=250, penalty=l2; total time=   1.0s\n"
          ]
        },
        {
          "output_type": "stream",
          "name": "stderr",
          "text": [
            "/usr/local/lib/python3.7/dist-packages/sklearn/linear_model/_logistic.py:818: ConvergenceWarning: lbfgs failed to converge (status=1):\n",
            "STOP: TOTAL NO. of ITERATIONS REACHED LIMIT.\n",
            "\n",
            "Increase the number of iterations (max_iter) or scale the data as shown in:\n",
            "    https://scikit-learn.org/stable/modules/preprocessing.html\n",
            "Please also refer to the documentation for alternative solver options:\n",
            "    https://scikit-learn.org/stable/modules/linear_model.html#logistic-regression\n",
            "  extra_warning_msg=_LOGISTIC_SOLVER_CONVERGENCE_MSG,\n"
          ]
        },
        {
          "output_type": "execute_result",
          "data": {
            "text/plain": [
              "RandomizedSearchCV(cv=3, estimator=LogisticRegression(random_state=101),\n",
              "                   param_distributions={'class_weight': ['balanced', 'None'],\n",
              "                                        'dual': [True, False],\n",
              "                                        'max_iter': [100, 200, 250],\n",
              "                                        'penalty': ['l1', 'l2', 'elasticnet',\n",
              "                                                    'none']},\n",
              "                   random_state=101, verbose=2)"
            ]
          },
          "metadata": {},
          "execution_count": 106
        }
      ]
    },
    {
      "cell_type": "code",
      "metadata": {
        "colab": {
          "base_uri": "https://localhost:8080/"
        },
        "id": "ciIVlFeJGCV7",
        "outputId": "d2070995-08b2-44fb-fb73-986f6775b4a7"
      },
      "source": [
        "lr_randomcv.best_params_"
      ],
      "execution_count": null,
      "outputs": [
        {
          "output_type": "execute_result",
          "data": {
            "text/plain": [
              "{'class_weight': 'balanced', 'dual': False, 'max_iter': 250, 'penalty': 'l2'}"
            ]
          },
          "metadata": {},
          "execution_count": 107
        }
      ]
    },
    {
      "cell_type": "code",
      "metadata": {
        "colab": {
          "base_uri": "https://localhost:8080/"
        },
        "id": "cZJy3-f4GRG0",
        "outputId": "9f9321de-7343-4632-ab84-4c65a45aa9e7"
      },
      "source": [
        "lr_randomcv.best_estimator_"
      ],
      "execution_count": null,
      "outputs": [
        {
          "output_type": "execute_result",
          "data": {
            "text/plain": [
              "LogisticRegression(class_weight='balanced', max_iter=250, random_state=101)"
            ]
          },
          "metadata": {},
          "execution_count": 109
        }
      ]
    },
    {
      "cell_type": "code",
      "metadata": {
        "id": "qtanoCa6Ggsk"
      },
      "source": [
        "lr_best_random_model=lr_randomcv.best_estimator_"
      ],
      "execution_count": null,
      "outputs": []
    },
    {
      "cell_type": "code",
      "metadata": {
        "id": "8-n4PwafGorZ"
      },
      "source": [
        "lr_best_random_model=lr_randomcv.best_estimator_"
      ],
      "execution_count": null,
      "outputs": []
    },
    {
      "cell_type": "code",
      "metadata": {
        "id": "962PZb-UGtwM"
      },
      "source": [
        "y_lr_rs_pred = lr_best_random_model.predict(X_test)"
      ],
      "execution_count": null,
      "outputs": []
    },
    {
      "cell_type": "code",
      "metadata": {
        "colab": {
          "base_uri": "https://localhost:8080/"
        },
        "id": "h6RP8sFGGyj1",
        "outputId": "856a7d8d-9b66-4297-b6dd-3a14a0853219"
      },
      "source": [
        "print(\"LR Accuracy:\",accuracy_score(Y_test, y_lr_rs_pred))\n",
        "print('LR Precision: %.3f' % precision_score(Y_test, y_lr_rs_pred))\n",
        "print('LR Recall: %.3f' % recall_score(Y_test, y_lr_rs_pred))\n",
        "print('LR F1 Score: %.3f' % f1_score(Y_test, y_lr_rs_pred))\n",
        "print('LR Confusion matrix: \\n', confusion_matrix(Y_test, y_lr_rs_pred))\n",
        "print('cohens kappa \\n', cohen_kappa_score(Y_test, y_lr_rs_pred))\n",
        "print('ROC_AUC score \\n', roc_auc_score(Y_test, y_lr_rs_pred))"
      ],
      "execution_count": null,
      "outputs": [
        {
          "output_type": "stream",
          "name": "stdout",
          "text": [
            "LR Accuracy: 0.7026348808030113\n",
            "LR Precision: 0.797\n",
            "LR Recall: 0.546\n",
            "LR F1 Score: 0.648\n",
            "LR Confusion matrix: \n",
            " [[3759  611]\n",
            " [1996 2401]]\n",
            "cohens kappa \n",
            " 0.4058422798138933\n",
            "ROC_AUC score \n",
            " 0.7031185970879875\n"
          ]
        }
      ]
    },
    {
      "cell_type": "code",
      "metadata": {
        "colab": {
          "base_uri": "https://localhost:8080/",
          "height": 294
        },
        "id": "S3kmtGndTnEq",
        "outputId": "7abb50aa-2f9d-49c4-b0c1-d74041c076b4"
      },
      "source": [
        "#print(classification_report(Y_test, y_pred))\n",
        "fprLRRS, tprLRRS, thresholdLRRS = roc_curve(Y_test, y_lr_rs_pred)\n",
        "roc_auc = auc(fprLRRS, thresholdLRRS)\n",
        "\n",
        "plt.title('Receiver Operating Characteristic')\n",
        "plt.plot(fprLRRS, tprLRRS, 'b', label = 'AUC = %0.2f' % roc_auc)\n",
        "plt.legend(loc = 'lower right')\n",
        "plt.plot([0, 1], [0, 1],'r--')\n",
        "plt.xlim([0, 1])\n",
        "plt.ylim([0, 1])\n",
        "plt.ylabel('True Positive Rate')\n",
        "plt.xlabel('False Positive Rate')\n",
        "plt.show()"
      ],
      "execution_count": null,
      "outputs": [
        {
          "output_type": "display_data",
          "data": {
            "image/png": "[encoded data removed]",
            "text/plain": [
              "<Figure size 432x288 with 1 Axes>"
            ]
          },
          "metadata": {
            "needs_background": "light"
          }
        }
      ]
    },
    {
      "cell_type": "code",
      "metadata": {
        "colab": {
          "base_uri": "https://localhost:8080/",
          "height": 314
        },
        "id": "JVDxi7FTHJVq",
        "outputId": "9a537aa6-f063-427a-8548-f92c9ec8806b"
      },
      "source": [
        "# Custom method for plotting the Confusion Matrix\n",
        "import itertools\n",
        "def plot_confusion_matrix(cm, classes,\n",
        "                          normalize=False,\n",
        "                          title='Confusion matrix',\n",
        "                          cmap=plt.cm.Blues):\n",
        "    if normalize:\n",
        "        cm = cm.astype('float') / cm.sum(axis=1)[:, np.newaxis]\n",
        "        print(\"Normalized confusion matrix\")\n",
        "    else:\n",
        "        print('Confusion matrix, without normalization')\n",
        "\n",
        "    plt.imshow(cm, interpolation='nearest', cmap=cmap)\n",
        "    plt.title(title)\n",
        "    plt.colorbar()\n",
        "    tick_marks = np.arange(len(classes))\n",
        "    plt.xticks(tick_marks, classes, rotation=45)\n",
        "    plt.yticks(tick_marks, classes)\n",
        "\n",
        "    fmt = '.2f' if normalize else 'd'\n",
        "    thresh = cm.max() / 2.\n",
        "    for i, j in itertools.product(range(cm.shape[0]), range(cm.shape[1])):\n",
        "        plt.text(j, i, format(cm[i, j], fmt),\n",
        "                 horizontalalignment=\"center\",\n",
        "                 color=\"white\" if cm[i, j] > thresh else \"black\")\n",
        "\n",
        "    plt.ylabel('True label')\n",
        "    plt.xlabel('Predicted label')\n",
        "    plt.tight_layout()\n",
        "\n",
        "# Plotting the confussion Matrix\n",
        "confussionMatrixRF = confusion_matrix(Y_test, y_lr_rs_pred)\n",
        "np.set_printoptions(precision=2)\n",
        "plt.figure()\n",
        "plot_confusion_matrix(confussionMatrixRF, classes=['Liver Disease','Normal'], title='Confusion Matrix')"
      ],
      "execution_count": null,
      "outputs": [
        {
          "output_type": "stream",
          "name": "stdout",
          "text": [
            "Confusion matrix, without normalization\n"
          ]
        },
        {
          "output_type": "display_data",
          "data": {
            "image/png": "[encoded data removed]",
            "text/plain": [
              "<Figure size 432x288 with 2 Axes>"
            ]
          },
          "metadata": {
            "needs_background": "light"
          }
        }
      ]
    },
    {
      "cell_type": "markdown",
      "metadata": {
        "id": "5EBUjlIiHm4e"
      },
      "source": [
        "***USING GRIDSEARCH-LR***"
      ]
    },
    {
      "cell_type": "code",
      "metadata": {
        "colab": {
          "base_uri": "https://localhost:8080/"
        },
        "id": "WiNz7YYlHrTO",
        "outputId": "7a7cce6a-541b-42c2-c399-a788cd51a022"
      },
      "source": [
        "penalty = ['l1', 'l2', 'elasticnet', 'none']\n",
        "dual = [True , False]\n",
        "class_weight = ['balanced', 'None']\n",
        "max_iter = [100,200,250]\n",
        "lr_param_grid = {'penalty': penalty, 'dual': dual, 'class_weight': class_weight, 'max_iter': max_iter}\n",
        "\n",
        "print(lr_param_grid)"
      ],
      "execution_count": null,
      "outputs": [
        {
          "output_type": "stream",
          "name": "stdout",
          "text": [
            "{'penalty': ['l1', 'l2', 'elasticnet', 'none'], 'dual': [True, False], 'class_weight': ['balanced', 'None'], 'max_iter': [100, 200, 250]}\n"
          ]
        }
      ]
    },
    {
      "cell_type": "code",
      "metadata": {
        "colab": {
          "base_uri": "https://localhost:8080/"
        },
        "id": "RWy0fVR7HyHw",
        "outputId": "61c88d11-192a-4431-8605-1f8f043c46ec"
      },
      "source": [
        "lr=LogisticRegression()\n",
        "lr_gridcv=GridSearchCV(estimator=lr,param_grid=lr_param_grid,n_jobs=-1,cv=10,verbose=2)\n",
        "lr_gridcv.fit(X_train,Y_train)"
      ],
      "execution_count": null,
      "outputs": [
        {
          "output_type": "stream",
          "name": "stdout",
          "text": [
            "Fitting 10 folds for each of 48 candidates, totalling 480 fits\n"
          ]
        },
        {
          "output_type": "stream",
          "name": "stderr",
          "text": [
            "/usr/local/lib/python3.7/dist-packages/sklearn/model_selection/_validation.py:372: FitFailedWarning: \n",
            "360 fits failed out of a total of 480.\n",
            "The score on these train-test partitions for these parameters will be set to nan.\n",
            "If these failures are not expected, you can try to debug them by setting error_score='raise'.\n",
            "\n",
            "Below are more details about the failures:\n",
            "--------------------------------------------------------------------------------\n",
            "120 fits failed with the following error:\n",
            "Traceback (most recent call last):\n",
            "  File \"/usr/local/lib/python3.7/dist-packages/sklearn/model_selection/_validation.py\", line 680, in _fit_and_score\n",
            "    estimator.fit(X_train, y_train, **fit_params)\n",
            "  File \"/usr/local/lib/python3.7/dist-packages/sklearn/linear_model/_logistic.py\", line 1461, in fit\n",
            "    solver = _check_solver(self.solver, self.penalty, self.dual)\n",
            "  File \"/usr/local/lib/python3.7/dist-packages/sklearn/linear_model/_logistic.py\", line 449, in _check_solver\n",
            "    % (solver, penalty)\n",
            "ValueError: Solver lbfgs supports only 'l2' or 'none' penalties, got l1 penalty.\n",
            "\n",
            "--------------------------------------------------------------------------------\n",
            "120 fits failed with the following error:\n",
            "Traceback (most recent call last):\n",
            "  File \"/usr/local/lib/python3.7/dist-packages/sklearn/model_selection/_validation.py\", line 680, in _fit_and_score\n",
            "    estimator.fit(X_train, y_train, **fit_params)\n",
            "  File \"/usr/local/lib/python3.7/dist-packages/sklearn/linear_model/_logistic.py\", line 1461, in fit\n",
            "    solver = _check_solver(self.solver, self.penalty, self.dual)\n",
            "  File \"/usr/local/lib/python3.7/dist-packages/sklearn/linear_model/_logistic.py\", line 453, in _check_solver\n",
            "    \"Solver %s supports only dual=False, got dual=%s\" % (solver, dual)\n",
            "ValueError: Solver lbfgs supports only dual=False, got dual=True\n",
            "\n",
            "--------------------------------------------------------------------------------\n",
            "120 fits failed with the following error:\n",
            "Traceback (most recent call last):\n",
            "  File \"/usr/local/lib/python3.7/dist-packages/sklearn/model_selection/_validation.py\", line 680, in _fit_and_score\n",
            "    estimator.fit(X_train, y_train, **fit_params)\n",
            "  File \"/usr/local/lib/python3.7/dist-packages/sklearn/linear_model/_logistic.py\", line 1461, in fit\n",
            "    solver = _check_solver(self.solver, self.penalty, self.dual)\n",
            "  File \"/usr/local/lib/python3.7/dist-packages/sklearn/linear_model/_logistic.py\", line 449, in _check_solver\n",
            "    % (solver, penalty)\n",
            "ValueError: Solver lbfgs supports only 'l2' or 'none' penalties, got elasticnet penalty.\n",
            "\n",
            "  warnings.warn(some_fits_failed_message, FitFailedWarning)\n",
            "/usr/local/lib/python3.7/dist-packages/sklearn/model_selection/_search.py:972: UserWarning: One or more of the test scores are non-finite: [ nan  nan  nan  nan  nan  nan  nan  nan  nan  nan  nan  nan  nan 0.7\n",
            "  nan 0.7   nan 0.7   nan 0.71  nan 0.7   nan 0.71  nan  nan  nan  nan\n",
            "  nan  nan  nan  nan  nan  nan  nan  nan  nan 0.7   nan 0.7   nan 0.7\n",
            "  nan 0.7   nan 0.7   nan 0.7 ]\n",
            "  category=UserWarning,\n",
            "/usr/local/lib/python3.7/dist-packages/sklearn/linear_model/_logistic.py:818: ConvergenceWarning: lbfgs failed to converge (status=1):\n",
            "STOP: TOTAL NO. of ITERATIONS REACHED LIMIT.\n",
            "\n",
            "Increase the number of iterations (max_iter) or scale the data as shown in:\n",
            "    https://scikit-learn.org/stable/modules/preprocessing.html\n",
            "Please also refer to the documentation for alternative solver options:\n",
            "    https://scikit-learn.org/stable/modules/linear_model.html#logistic-regression\n",
            "  extra_warning_msg=_LOGISTIC_SOLVER_CONVERGENCE_MSG,\n"
          ]
        },
        {
          "output_type": "execute_result",
          "data": {
            "text/plain": [
              "GridSearchCV(cv=10, estimator=LogisticRegression(), n_jobs=-1,\n",
              "             param_grid={'class_weight': ['balanced', 'None'],\n",
              "                         'dual': [True, False], 'max_iter': [100, 200, 250],\n",
              "                         'penalty': ['l1', 'l2', 'elasticnet', 'none']},\n",
              "             verbose=2)"
            ]
          },
          "metadata": {},
          "execution_count": 117
        }
      ]
    },
    {
      "cell_type": "code",
      "metadata": {
        "id": "gVjUJrRnH3qD"
      },
      "source": [
        "lr_best_grid_model=lr_gridcv.best_estimator_"
      ],
      "execution_count": null,
      "outputs": []
    },
    {
      "cell_type": "code",
      "metadata": {
        "colab": {
          "base_uri": "https://localhost:8080/"
        },
        "id": "BVSx_1PTH-CA",
        "outputId": "9bfa87c1-c4bb-42bb-97e7-16d642e343a4"
      },
      "source": [
        "lr_best_grid_model"
      ],
      "execution_count": null,
      "outputs": [
        {
          "output_type": "execute_result",
          "data": {
            "text/plain": [
              "LogisticRegression(class_weight='balanced', max_iter=200, penalty='none')"
            ]
          },
          "metadata": {},
          "execution_count": 119
        }
      ]
    },
    {
      "cell_type": "code",
      "metadata": {
        "id": "ZBPQIpZHIMKH"
      },
      "source": [
        "y_lr_gs_pred = lr_best_grid_model.predict(X_test)"
      ],
      "execution_count": null,
      "outputs": []
    },
    {
      "cell_type": "code",
      "metadata": {
        "colab": {
          "base_uri": "https://localhost:8080/"
        },
        "id": "YqYKnKk_ISvT",
        "outputId": "7b7349df-8539-4c27-801b-f15fafda5579"
      },
      "source": [
        "print(\"LR Accuracy:\",accuracy_score(Y_test, y_lr_gs_pred))\n",
        "print('LR Precision: %.3f' % precision_score(Y_test, y_lr_gs_pred))\n",
        "print('LR Recall: %.3f' % recall_score(Y_test, y_lr_gs_pred))\n",
        "print('LR F1 Score: %.3f' % f1_score(Y_test, y_lr_gs_pred))\n",
        "print('LR Confusion matrix: \\n', confusion_matrix(Y_test, y_lr_gs_pred))\n",
        "print('cohens kappa \\n', cohen_kappa_score(Y_test, y_lr_gs_pred))\n",
        "print('ROC_AUC score \\n', roc_auc_score(Y_test, y_lr_gs_pred))"
      ],
      "execution_count": null,
      "outputs": [
        {
          "output_type": "stream",
          "name": "stdout",
          "text": [
            "LR Accuracy: 0.7030911372191171\n",
            "LR Precision: 0.795\n",
            "LR Recall: 0.550\n",
            "LR F1 Score: 0.650\n",
            "LR Confusion matrix: \n",
            " [[3746  624]\n",
            " [1979 2418]]\n",
            "cohens kappa \n",
            " 0.4067414220189508\n",
            "ROC_AUC score \n",
            " 0.7035643191295916\n"
          ]
        }
      ]
    },
    {
      "cell_type": "code",
      "metadata": {
        "colab": {
          "base_uri": "https://localhost:8080/",
          "height": 294
        },
        "id": "d_kkd7fYTpLz",
        "outputId": "cd0a1e8c-904b-46df-fab9-d547aa2cf002"
      },
      "source": [
        "#print(classification_report(Y_test, y_pred))\n",
        "fprLRGS, tprLRGS, thresholdLRGS = roc_curve(Y_test, y_lr_gs_pred)\n",
        "roc_auc = auc(fprLRRS, thresholdLRRS)\n",
        "\n",
        "plt.title('Receiver Operating Characteristic')\n",
        "plt.plot(fprLRGS, tprLRGS, 'b', label = 'AUC = %0.2f' % roc_auc)\n",
        "plt.legend(loc = 'lower right')\n",
        "plt.plot([0, 1], [0, 1],'r--')\n",
        "plt.xlim([0, 1])\n",
        "plt.ylim([0, 1])\n",
        "plt.ylabel('True Positive Rate')\n",
        "plt.xlabel('False Positive Rate')\n",
        "plt.show()"
      ],
      "execution_count": null,
      "outputs": [
        {
          "output_type": "display_data",
          "data": {
            "image/png": "[encoded data removed]",
            "text/plain": [
              "<Figure size 432x288 with 1 Axes>"
            ]
          },
          "metadata": {
            "needs_background": "light"
          }
        }
      ]
    },
    {
      "cell_type": "code",
      "metadata": {
        "colab": {
          "base_uri": "https://localhost:8080/",
          "height": 314
        },
        "id": "qG6Jx0wUdDVG",
        "outputId": "04980ba5-a67b-4fed-910d-563ea86c786d"
      },
      "source": [
        "# Custom method for plotting the Confusion Matrix\n",
        "import itertools\n",
        "def plot_confusion_matrix(cm, classes,\n",
        "                          normalize=False,\n",
        "                          title='Confusion matrix',\n",
        "                          cmap=plt.cm.Blues):\n",
        "    if normalize:\n",
        "        cm = cm.astype('float') / cm.sum(axis=1)[:, np.newaxis]\n",
        "        print(\"Normalized confusion matrix\")\n",
        "    else:\n",
        "        print('Confusion matrix, without normalization')\n",
        "\n",
        "    plt.imshow(cm, interpolation='nearest', cmap=cmap)\n",
        "    plt.title(title)\n",
        "    plt.colorbar()\n",
        "    tick_marks = np.arange(len(classes))\n",
        "    plt.xticks(tick_marks, classes, rotation=45)\n",
        "    plt.yticks(tick_marks, classes)\n",
        "\n",
        "    fmt = '.2f' if normalize else 'd'\n",
        "    thresh = cm.max() / 2.\n",
        "    for i, j in itertools.product(range(cm.shape[0]), range(cm.shape[1])):\n",
        "        plt.text(j, i, format(cm[i, j], fmt),\n",
        "                 horizontalalignment=\"center\",\n",
        "                 color=\"white\" if cm[i, j] > thresh else \"black\")\n",
        "\n",
        "    plt.ylabel('True label')\n",
        "    plt.xlabel('Predicted label')\n",
        "    plt.tight_layout()\n",
        "\n",
        "# Plotting the confussion Matrix\n",
        "confussionMatrixRF = confusion_matrix(Y_test, y_lr_gs_pred)\n",
        "np.set_printoptions(precision=2)\n",
        "plt.figure()\n",
        "plot_confusion_matrix(confussionMatrixRF, classes=['Liver Disease','Normal'], title='Confusion Matrix')"
      ],
      "execution_count": null,
      "outputs": [
        {
          "output_type": "stream",
          "name": "stdout",
          "text": [
            "Confusion matrix, without normalization\n"
          ]
        },
        {
          "output_type": "display_data",
          "data": {
            "image/png": "[encoded data removed]",
            "text/plain": [
              "<Figure size 432x288 with 2 Axes>"
            ]
          },
          "metadata": {
            "needs_background": "light"
          }
        }
      ]
    },
    {
      "cell_type": "markdown",
      "metadata": {
        "id": "udkAH5sc8SDe"
      },
      "source": [
        "NICHER TA BEKAR"
      ]
    },
    {
      "cell_type": "code",
      "metadata": {
        "colab": {
          "base_uri": "https://localhost:8080/"
        },
        "id": "OTbUvhX8YZ_y",
        "outputId": "c842d545-48f9-4ca9-c1eb-357470923a2c"
      },
      "source": [
        "print(metrics.mean_absolute_error(Y_test, y_lr_gs_pred)) \n",
        "\n",
        "print(metrics.mean_squared_error(Y_test, y_lr_gs_pred)) \n",
        "\n",
        "print(np.sqrt(metrics.mean_squared_error(Y_test, y_lr_gs_pred))) \n"
      ],
      "execution_count": null,
      "outputs": [
        {
          "output_type": "stream",
          "name": "stdout",
          "text": [
            "0.29690886278088285\n",
            "0.29690886278088285\n",
            "0.5448934416754186\n"
          ]
        }
      ]
    },
    {
      "cell_type": "markdown",
      "metadata": {
        "id": "jCv-bFNne5s2"
      },
      "source": [
        "**XGBOOST SEGMENT**"
      ]
    },
    {
      "cell_type": "code",
      "metadata": {
        "colab": {
          "base_uri": "https://localhost:8080/"
        },
        "id": "RHwkQpJVe5M3",
        "outputId": "8dc9d1bc-6b97-440f-d426-df3258824e99"
      },
      "source": [
        "xg_model=XGBClassifier(random_state=101, n_jobs=1)\n",
        "eval_set=[(X_test,Y_test)]\n",
        "xg_model.fit(X_train, Y_train, early_stopping_rounds=10, eval_metric='logloss',eval_set=eval_set, verbose= True)\n",
        "#xg_model.fit(X_train, Y_train)\n",
        "\n",
        "y_xg_pred=xg_model.predict(X_test)"
      ],
      "execution_count": null,
      "outputs": [
        {
          "output_type": "stream",
          "name": "stdout",
          "text": [
            "[0]\tvalidation_0-logloss:0.667237\n",
            "Will train until validation_0-logloss hasn't improved in 10 rounds.\n",
            "[1]\tvalidation_0-logloss:0.64733\n",
            "[2]\tvalidation_0-logloss:0.628687\n",
            "[3]\tvalidation_0-logloss:0.614542\n",
            "[4]\tvalidation_0-logloss:0.601878\n",
            "[5]\tvalidation_0-logloss:0.58913\n",
            "[6]\tvalidation_0-logloss:0.578465\n",
            "[7]\tvalidation_0-logloss:0.569735\n",
            "[8]\tvalidation_0-logloss:0.561385\n",
            "[9]\tvalidation_0-logloss:0.554372\n",
            "[10]\tvalidation_0-logloss:0.548468\n",
            "[11]\tvalidation_0-logloss:0.541576\n",
            "[12]\tvalidation_0-logloss:0.535099\n",
            "[13]\tvalidation_0-logloss:0.529954\n",
            "[14]\tvalidation_0-logloss:0.524635\n",
            "[15]\tvalidation_0-logloss:0.518546\n",
            "[16]\tvalidation_0-logloss:0.514015\n",
            "[17]\tvalidation_0-logloss:0.509441\n",
            "[18]\tvalidation_0-logloss:0.506859\n",
            "[19]\tvalidation_0-logloss:0.502858\n",
            "[20]\tvalidation_0-logloss:0.500963\n",
            "[21]\tvalidation_0-logloss:0.496618\n",
            "[22]\tvalidation_0-logloss:0.494896\n",
            "[23]\tvalidation_0-logloss:0.493305\n",
            "[24]\tvalidation_0-logloss:0.49185\n",
            "[25]\tvalidation_0-logloss:0.488279\n",
            "[26]\tvalidation_0-logloss:0.486929\n",
            "[27]\tvalidation_0-logloss:0.485644\n",
            "[28]\tvalidation_0-logloss:0.484441\n",
            "[29]\tvalidation_0-logloss:0.480602\n",
            "[30]\tvalidation_0-logloss:0.479399\n",
            "[31]\tvalidation_0-logloss:0.475781\n",
            "[32]\tvalidation_0-logloss:0.474821\n",
            "[33]\tvalidation_0-logloss:0.473806\n",
            "[34]\tvalidation_0-logloss:0.471826\n",
            "[35]\tvalidation_0-logloss:0.470967\n",
            "[36]\tvalidation_0-logloss:0.469822\n",
            "[37]\tvalidation_0-logloss:0.467044\n",
            "[38]\tvalidation_0-logloss:0.463837\n",
            "[39]\tvalidation_0-logloss:0.460747\n",
            "[40]\tvalidation_0-logloss:0.460078\n",
            "[41]\tvalidation_0-logloss:0.459145\n",
            "[42]\tvalidation_0-logloss:0.456362\n",
            "[43]\tvalidation_0-logloss:0.454829\n",
            "[44]\tvalidation_0-logloss:0.453229\n",
            "[45]\tvalidation_0-logloss:0.451258\n",
            "[46]\tvalidation_0-logloss:0.449904\n",
            "[47]\tvalidation_0-logloss:0.447443\n",
            "[48]\tvalidation_0-logloss:0.446114\n",
            "[49]\tvalidation_0-logloss:0.445229\n",
            "[50]\tvalidation_0-logloss:0.442912\n",
            "[51]\tvalidation_0-logloss:0.440578\n",
            "[52]\tvalidation_0-logloss:0.43776\n",
            "[53]\tvalidation_0-logloss:0.435156\n",
            "[54]\tvalidation_0-logloss:0.432987\n",
            "[55]\tvalidation_0-logloss:0.431464\n",
            "[56]\tvalidation_0-logloss:0.430295\n",
            "[57]\tvalidation_0-logloss:0.428177\n",
            "[58]\tvalidation_0-logloss:0.426907\n",
            "[59]\tvalidation_0-logloss:0.425333\n",
            "[60]\tvalidation_0-logloss:0.424184\n",
            "[61]\tvalidation_0-logloss:0.423647\n",
            "[62]\tvalidation_0-logloss:0.422186\n",
            "[63]\tvalidation_0-logloss:0.420852\n",
            "[64]\tvalidation_0-logloss:0.419948\n",
            "[65]\tvalidation_0-logloss:0.416917\n",
            "[66]\tvalidation_0-logloss:0.415952\n",
            "[67]\tvalidation_0-logloss:0.414885\n",
            "[68]\tvalidation_0-logloss:0.412631\n",
            "[69]\tvalidation_0-logloss:0.411499\n",
            "[70]\tvalidation_0-logloss:0.409781\n",
            "[71]\tvalidation_0-logloss:0.406192\n",
            "[72]\tvalidation_0-logloss:0.405374\n",
            "[73]\tvalidation_0-logloss:0.403666\n",
            "[74]\tvalidation_0-logloss:0.40139\n",
            "[75]\tvalidation_0-logloss:0.400197\n",
            "[76]\tvalidation_0-logloss:0.398632\n",
            "[77]\tvalidation_0-logloss:0.397496\n",
            "[78]\tvalidation_0-logloss:0.396664\n",
            "[79]\tvalidation_0-logloss:0.395734\n",
            "[80]\tvalidation_0-logloss:0.392838\n",
            "[81]\tvalidation_0-logloss:0.391999\n",
            "[82]\tvalidation_0-logloss:0.390234\n",
            "[83]\tvalidation_0-logloss:0.387895\n",
            "[84]\tvalidation_0-logloss:0.386975\n",
            "[85]\tvalidation_0-logloss:0.386161\n",
            "[86]\tvalidation_0-logloss:0.383603\n",
            "[87]\tvalidation_0-logloss:0.382869\n",
            "[88]\tvalidation_0-logloss:0.381498\n",
            "[89]\tvalidation_0-logloss:0.381223\n",
            "[90]\tvalidation_0-logloss:0.378687\n",
            "[91]\tvalidation_0-logloss:0.37717\n",
            "[92]\tvalidation_0-logloss:0.376287\n",
            "[93]\tvalidation_0-logloss:0.373827\n",
            "[94]\tvalidation_0-logloss:0.371854\n",
            "[95]\tvalidation_0-logloss:0.368958\n",
            "[96]\tvalidation_0-logloss:0.367751\n",
            "[97]\tvalidation_0-logloss:0.366025\n",
            "[98]\tvalidation_0-logloss:0.364341\n",
            "[99]\tvalidation_0-logloss:0.363737\n"
          ]
        }
      ]
    },
    {
      "cell_type": "code",
      "metadata": {
        "colab": {
          "base_uri": "https://localhost:8080/"
        },
        "id": "lwlxNkvZtoVZ",
        "outputId": "f0ca15a0-90bd-4ddc-8390-6d6f1ba52552"
      },
      "source": [
        "print(\"XG Accuracy:\",accuracy_score(Y_test, y_xg_pred))\n",
        "print('XG Precision: %.3f' % precision_score(Y_test, y_xg_pred))\n",
        "print('XG Recall: %.3f' % recall_score(Y_test, y_xg_pred))\n",
        "print('XG F1 Score: %.3f' % f1_score(Y_test, y_xg_pred))\n",
        "print('XG Confusion matrix: \\n', confusion_matrix(Y_test, y_xg_pred))\n",
        "print('cohens kappa \\n', cohen_kappa_score(Y_test, y_xg_pred))\n",
        "print('ROC_AUC score \\n', roc_auc_score(Y_test, y_xg_pred))"
      ],
      "execution_count": null,
      "outputs": [
        {
          "output_type": "stream",
          "name": "stdout",
          "text": [
            "XG Accuracy: 0.8607277289836889\n",
            "XG Precision: 0.954\n",
            "XG Recall: 0.759\n",
            "XG F1 Score: 0.845\n",
            "XG Confusion matrix: \n",
            " [[4210  160]\n",
            " [1061 3336]]\n",
            "cohens kappa \n",
            " 0.7216290317182505\n",
            "ROC_AUC score \n",
            " 0.8610429203601998\n"
          ]
        }
      ]
    },
    {
      "cell_type": "code",
      "metadata": {
        "colab": {
          "base_uri": "https://localhost:8080/",
          "height": 294
        },
        "id": "qXckY1a2TsW1",
        "outputId": "dced0bfc-e3bb-4880-887f-8d049febad67"
      },
      "source": [
        "#print(classification_report(Y_test, y_pred))\n",
        "fprXG, tprXG, thresholdXG = roc_curve(Y_test, y_xg_pred)\n",
        "roc_auc = auc(fprXG, thresholdXG)\n",
        "\n",
        "plt.title('Receiver Operating Characteristic')\n",
        "plt.plot(fprXG, tprXG, 'b', label = 'AUC = %0.2f' % roc_auc)\n",
        "plt.legend(loc = 'lower right')\n",
        "plt.plot([0, 1], [0, 1],'r--')\n",
        "plt.xlim([0, 1])\n",
        "plt.ylim([0, 1])\n",
        "plt.ylabel('True Positive Rate')\n",
        "plt.xlabel('False Positive Rate')\n",
        "plt.show()"
      ],
      "execution_count": null,
      "outputs": [
        {
          "output_type": "display_data",
          "data": {
            "image/png": "[encoded data removed]",
            "text/plain": [
              "<Figure size 432x288 with 1 Axes>"
            ]
          },
          "metadata": {
            "needs_background": "light"
          }
        }
      ]
    },
    {
      "cell_type": "code",
      "metadata": {
        "colab": {
          "base_uri": "https://localhost:8080/",
          "height": 314
        },
        "id": "Ozg3o0UlWXHl",
        "outputId": "017dea0d-a346-4325-dcbf-6b1ff935a6d1"
      },
      "source": [
        "# Custom method for plotting the Confusion Matrix\n",
        "import itertools\n",
        "def plot_confusion_matrix(cm, classes,\n",
        "                          normalize=False,\n",
        "                          title='Confusion matrix',\n",
        "                          cmap=plt.cm.Blues):\n",
        "    if normalize:\n",
        "        cm = cm.astype('float') / cm.sum(axis=1)[:, np.newaxis]\n",
        "        print(\"Normalized confusion matrix\")\n",
        "    else:\n",
        "        print('Confusion matrix, without normalization')\n",
        "\n",
        "    plt.imshow(cm, interpolation='nearest', cmap=cmap)\n",
        "    plt.title(title)\n",
        "    plt.colorbar()\n",
        "    tick_marks = np.arange(len(classes))\n",
        "    plt.xticks(tick_marks, classes, rotation=45)\n",
        "    plt.yticks(tick_marks, classes)\n",
        "\n",
        "    fmt = '.2f' if normalize else 'd'\n",
        "    thresh = cm.max() / 2.\n",
        "    for i, j in itertools.product(range(cm.shape[0]), range(cm.shape[1])):\n",
        "        plt.text(j, i, format(cm[i, j], fmt),\n",
        "                 horizontalalignment=\"center\",\n",
        "                 color=\"white\" if cm[i, j] > thresh else \"black\")\n",
        "\n",
        "    plt.ylabel('True label')\n",
        "    plt.xlabel('Predicted label')\n",
        "    plt.tight_layout()\n",
        "\n",
        "# Plotting the confussion Matrix\n",
        "confussionMatrixRF = confusion_matrix(Y_test, y_xg_pred)\n",
        "np.set_printoptions(precision=2)\n",
        "plt.figure()\n",
        "plot_confusion_matrix(confussionMatrixRF, classes=['Liver Disease','Normal'], title='Confusion Matrix')"
      ],
      "execution_count": null,
      "outputs": [
        {
          "output_type": "stream",
          "name": "stdout",
          "text": [
            "Confusion matrix, without normalization\n"
          ]
        },
        {
          "output_type": "display_data",
          "data": {
            "image/png": "[encoded data removed]",
            "text/plain": [
              "<Figure size 432x288 with 2 Axes>"
            ]
          },
          "metadata": {
            "needs_background": "light"
          }
        }
      ]
    },
    {
      "cell_type": "code",
      "metadata": {
        "colab": {
          "base_uri": "https://localhost:8080/",
          "height": 294
        },
        "id": "BhDbirdz0ZfB",
        "outputId": "2a562fdd-e822-4f52-f7e1-63315e1c03f8"
      },
      "source": [
        "from xgboost import plot_importance\n",
        "plot_importance(xg_model)\n",
        "plt.show()"
      ],
      "execution_count": null,
      "outputs": [
        {
          "output_type": "display_data",
          "data": {
            "image/png": "[encoded data removed]",
            "text/plain": [
              "<Figure size 432x288 with 1 Axes>"
            ]
          },
          "metadata": {
            "needs_background": "light"
          }
        }
      ]
    },
    {
      "cell_type": "code",
      "metadata": {
        "colab": {
          "base_uri": "https://localhost:8080/",
          "height": 275
        },
        "id": "rmJeD1DM06Rk",
        "outputId": "0ac098a3-7114-4085-eeff-d59e6d485c2b"
      },
      "source": [
        "import xgboost as xgb\n",
        "plt.figure(figsize=(20,15))\n",
        "xgb.plot_tree(xg_model, ax=plt.gca())"
      ],
      "execution_count": null,
      "outputs": [
        {
          "output_type": "execute_result",
          "data": {
            "text/plain": [
              "<matplotlib.axes._subplots.AxesSubplot at 0x7fa709e60450>"
            ]
          },
          "metadata": {},
          "execution_count": 130
        },
        {
          "output_type": "display_data",
          "data": {
            "image/png": "[encoded data removed]",
            "text/plain": [
              "<Figure size 1440x1080 with 1 Axes>"
            ]
          },
          "metadata": {
            "needs_background": "light"
          }
        }
      ]
    },
    {
      "cell_type": "markdown",
      "metadata": {
        "id": "YzldUMCz__lQ"
      },
      "source": [
        "*****USING RANDOMSEARCH-CV--XGB*****"
      ]
    },
    {
      "cell_type": "code",
      "metadata": {
        "colab": {
          "base_uri": "https://localhost:8080/"
        },
        "id": "kybyRlGHAHnE",
        "outputId": "b52714a5-d474-480c-c8e3-8598faf5de72"
      },
      "source": [
        "#for hyperparameter tuning\n",
        "\n",
        "xg_RS_params={\"learning_rate\" :[0.05, 0.10, 0.15, 0.20, 0.25, 0.30],\n",
        "           \"max_depth\" : [3,4,5,6,7,10,12,15],\n",
        "           \"min_child_weight\": [1,5,9],\n",
        "           \"gamma\" : [0.0,0.1,0.2,0.3,0.4,0.5]}\n",
        "           #\"colsample_bytree\"  : [0.3 ,0.4 ,0.5 ,0.7]\n",
        "           \n",
        "\n",
        "print(xg_RS_params)           "
      ],
      "execution_count": null,
      "outputs": [
        {
          "output_type": "stream",
          "name": "stdout",
          "text": [
            "{'learning_rate': [0.05, 0.1, 0.15, 0.2, 0.25, 0.3], 'max_depth': [3, 4, 5, 6, 7, 10, 12, 15], 'min_child_weight': [1, 5, 9], 'gamma': [0.0, 0.1, 0.2, 0.3, 0.4, 0.5]}\n"
          ]
        }
      ]
    },
    {
      "cell_type": "code",
      "metadata": {
        "colab": {
          "base_uri": "https://localhost:8080/"
        },
        "id": "6OjCSiWBCvbI",
        "outputId": "54845195-f2aa-4147-805a-3f2ec8c714c5"
      },
      "source": [
        "xg_rs_model = XGBClassifier()\n",
        "xg_randomcv=RandomizedSearchCV(xg_rs_model, param_distributions=xg_RS_params, n_iter=5, n_jobs=-1, cv=5, verbose=2, scoring= 'roc_auc',random_state=102)\n",
        "xg_randomcv.fit(X_train,Y_train)"
      ],
      "execution_count": null,
      "outputs": [
        {
          "output_type": "stream",
          "name": "stdout",
          "text": [
            "Fitting 5 folds for each of 5 candidates, totalling 25 fits\n"
          ]
        },
        {
          "output_type": "execute_result",
          "data": {
            "text/plain": [
              "RandomizedSearchCV(cv=5, estimator=XGBClassifier(), n_iter=5, n_jobs=-1,\n",
              "                   param_distributions={'gamma': [0.0, 0.1, 0.2, 0.3, 0.4, 0.5],\n",
              "                                        'learning_rate': [0.05, 0.1, 0.15, 0.2,\n",
              "                                                          0.25, 0.3],\n",
              "                                        'max_depth': [3, 4, 5, 6, 7, 10, 12,\n",
              "                                                      15],\n",
              "                                        'min_child_weight': [1, 5, 9]},\n",
              "                   random_state=102, scoring='roc_auc', verbose=2)"
            ]
          },
          "metadata": {},
          "execution_count": 132
        }
      ]
    },
    {
      "cell_type": "code",
      "metadata": {
        "colab": {
          "base_uri": "https://localhost:8080/"
        },
        "id": "jxDO_LgtNPpl",
        "outputId": "c8813d55-82f0-4f07-fa0e-5efb6c597f2d"
      },
      "source": [
        "xg_randomcv.best_estimator_"
      ],
      "execution_count": null,
      "outputs": [
        {
          "output_type": "execute_result",
          "data": {
            "text/plain": [
              "XGBClassifier(gamma=0.1, learning_rate=0.25, max_depth=10, min_child_weight=5)"
            ]
          },
          "metadata": {},
          "execution_count": 133
        }
      ]
    },
    {
      "cell_type": "code",
      "metadata": {
        "colab": {
          "base_uri": "https://localhost:8080/"
        },
        "id": "tedCqGIDNZ3p",
        "outputId": "20b44984-cfb3-4645-82c3-3e4242e0d476"
      },
      "source": [
        "xg_randomcv.best_params_"
      ],
      "execution_count": null,
      "outputs": [
        {
          "output_type": "execute_result",
          "data": {
            "text/plain": [
              "{'gamma': 0.1, 'learning_rate': 0.25, 'max_depth': 10, 'min_child_weight': 5}"
            ]
          },
          "metadata": {},
          "execution_count": 134
        }
      ]
    },
    {
      "cell_type": "code",
      "metadata": {
        "id": "2fJlCEoINfPT"
      },
      "source": [
        "xg_best_random_model= xg_randomcv.best_estimator_"
      ],
      "execution_count": null,
      "outputs": []
    },
    {
      "cell_type": "code",
      "metadata": {
        "id": "xqRyzZhzU7ej"
      },
      "source": [
        "y_xg_RS_pred = xg_best_random_model.predict(X_test)"
      ],
      "execution_count": null,
      "outputs": []
    },
    {
      "cell_type": "code",
      "metadata": {
        "id": "Pe6jZ8kYVryW",
        "colab": {
          "base_uri": "https://localhost:8080/"
        },
        "outputId": "80bc530d-2927-49ad-ee98-926e46059f04"
      },
      "source": [
        "print(\"XG Accuracy:\",accuracy_score(Y_test, y_xg_RS_pred))\n",
        "print('XG Precision: %.3f' % precision_score(Y_test, y_xg_RS_pred))\n",
        "print('XG Recall: %.3f' % recall_score(Y_test,y_xg_RS_pred))\n",
        "print('XG F1 Score: %.3f' % f1_score(Y_test, y_xg_RS_pred))\n",
        "print('XG Confusion matrix: \\n', confusion_matrix(Y_test,y_xg_RS_pred))\n",
        "print('cohens kappa \\n', cohen_kappa_score(Y_test, y_xg_RS_pred))\n",
        "print('ROC_AUC score \\n', roc_auc_score(Y_test, y_xg_RS_pred))"
      ],
      "execution_count": null,
      "outputs": [
        {
          "output_type": "stream",
          "name": "stdout",
          "text": [
            "XG Accuracy: 0.998745294855709\n",
            "XG Precision: 0.999\n",
            "XG Recall: 0.999\n",
            "XG F1 Score: 0.999\n",
            "XG Confusion matrix: \n",
            " [[4364    6]\n",
            " [   5 4392]]\n",
            "cohens kappa \n",
            " 0.9974905641470035\n",
            "ROC_AUC score \n",
            " 0.9987449316649745\n"
          ]
        }
      ]
    },
    {
      "cell_type": "code",
      "metadata": {
        "id": "avvZ0GXGTumn",
        "colab": {
          "base_uri": "https://localhost:8080/",
          "height": 294
        },
        "outputId": "c58b32c6-4b77-433b-e434-8d9350a5a4f6"
      },
      "source": [
        "#print(classification_report(Y_test, y_pred))\n",
        "fprXGRS, tprXGRS, thresholdXGRS = roc_curve(Y_test, y_xg_RS_pred)\n",
        "roc_auc = auc(fprXGRS, thresholdXGRS)\n",
        "\n",
        "plt.title('Receiver Operating Characteristic')\n",
        "plt.plot(fprXGRS, tprXGRS, 'b', label = 'AUC = %0.2f' % roc_auc)\n",
        "plt.legend(loc = 'lower right')\n",
        "plt.plot([0, 1], [0, 1],'r--')\n",
        "plt.xlim([0, 1])\n",
        "plt.ylim([0, 1])\n",
        "plt.ylabel('True Positive Rate')\n",
        "plt.xlabel('False Positive Rate')\n",
        "plt.show()"
      ],
      "execution_count": null,
      "outputs": [
        {
          "output_type": "display_data",
          "data": {
            "image/png": "[encoded data removed]",
            "text/plain": [
              "<Figure size 432x288 with 1 Axes>"
            ]
          },
          "metadata": {
            "needs_background": "light"
          }
        }
      ]
    },
    {
      "cell_type": "code",
      "metadata": {
        "id": "spEYM3oVWfEJ",
        "colab": {
          "base_uri": "https://localhost:8080/",
          "height": 314
        },
        "outputId": "6226affc-c371-4c2d-9c94-a33fade3e346"
      },
      "source": [
        "# Custom method for plotting the Confusion Matrix\n",
        "import itertools\n",
        "def plot_confusion_matrix(cm, classes,\n",
        "                          normalize=False,\n",
        "                          title='Confusion matrix',\n",
        "                          cmap=plt.cm.Blues):\n",
        "    if normalize:\n",
        "        cm = cm.astype('float') / cm.sum(axis=1)[:, np.newaxis]\n",
        "        print(\"Normalized confusion matrix\")\n",
        "    else:\n",
        "        print('Confusion matrix, without normalization')\n",
        "\n",
        "    plt.imshow(cm, interpolation='nearest', cmap=cmap)\n",
        "    plt.title(title)\n",
        "    plt.colorbar()\n",
        "    tick_marks = np.arange(len(classes))\n",
        "    plt.xticks(tick_marks, classes, rotation=45)\n",
        "    plt.yticks(tick_marks, classes)\n",
        "\n",
        "    fmt = '.2f' if normalize else 'd'\n",
        "    thresh = cm.max() / 2.\n",
        "    for i, j in itertools.product(range(cm.shape[0]), range(cm.shape[1])):\n",
        "        plt.text(j, i, format(cm[i, j], fmt),\n",
        "                 horizontalalignment=\"center\",\n",
        "                 color=\"white\" if cm[i, j] > thresh else \"black\")\n",
        "\n",
        "    plt.ylabel('True label')\n",
        "    plt.xlabel('Predicted label')\n",
        "    plt.tight_layout()\n",
        "\n",
        "# Plotting the confussion Matrix\n",
        "confussionMatrixRF = confusion_matrix(Y_test, y_xg_RS_pred)\n",
        "np.set_printoptions(precision=2)\n",
        "plt.figure()\n",
        "plot_confusion_matrix(confussionMatrixRF, classes=['Liver Disease','Normal'], title='Confusion Matrix')"
      ],
      "execution_count": null,
      "outputs": [
        {
          "output_type": "stream",
          "name": "stdout",
          "text": [
            "Confusion matrix, without normalization\n"
          ]
        },
        {
          "output_type": "display_data",
          "data": {
            "image/png": "[encoded data removed]",
            "text/plain": [
              "<Figure size 432x288 with 2 Axes>"
            ]
          },
          "metadata": {
            "needs_background": "light"
          }
        }
      ]
    },
    {
      "cell_type": "markdown",
      "metadata": {
        "id": "VHiF_KRXdjFR"
      },
      "source": [
        "***USING GRIDSEARCH-LR***"
      ]
    },
    {
      "cell_type": "code",
      "metadata": {
        "colab": {
          "base_uri": "https://localhost:8080/"
        },
        "id": "yzOXm7eRdtNm",
        "outputId": "d618c1da-8502-403a-c826-71ee4b8354b0"
      },
      "source": [
        "xg_gs_params= {\"learning_rate\" :[0.05, 0.10, 0.15, 0.20, 0.25, 0.30],\n",
        "           \"max_depth\" : [3,4,5,6,7,10,12,15],\n",
        "           \"min_child_weight\": [1,5,9],\n",
        "           \"gamma\" : [0.0,0.1,0.2,0.3,0.4,0.5]}\n",
        "\n",
        "print(xg_gs_params)"
      ],
      "execution_count": null,
      "outputs": [
        {
          "output_type": "stream",
          "name": "stdout",
          "text": [
            "{'learning_rate': [0.05, 0.1, 0.15, 0.2, 0.25, 0.3], 'max_depth': [3, 4, 5, 6, 7, 10, 12, 15], 'min_child_weight': [1, 5, 9], 'gamma': [0.0, 0.1, 0.2, 0.3, 0.4, 0.5]}\n"
          ]
        }
      ]
    },
    {
      "cell_type": "code",
      "metadata": {
        "colab": {
          "base_uri": "https://localhost:8080/"
        },
        "id": "Go0jGmE5pByg",
        "outputId": "192089fa-da6c-490b-b764-109b44a26bfc"
      },
      "source": [
        "xg_gs_model= XGBClassifier()\n",
        "#xg = xgb.XGBClassifier()\n",
        "xg_gridcv = GridSearchCV(estimator=xg_gs_model, param_grid=xg_gs_params, n_jobs=-1, cv=5, scoring=\"roc_auc\")\n",
        "xg_gridcv.fit(X_train, Y_train)"
      ],
      "execution_count": null,
      "outputs": [
        {
          "output_type": "execute_result",
          "data": {
            "text/plain": [
              "GridSearchCV(cv=5, estimator=XGBClassifier(), n_jobs=-1,\n",
              "             param_grid={'gamma': [0.0, 0.1, 0.2, 0.3, 0.4, 0.5],\n",
              "                         'learning_rate': [0.05, 0.1, 0.15, 0.2, 0.25, 0.3],\n",
              "                         'max_depth': [3, 4, 5, 6, 7, 10, 12, 15],\n",
              "                         'min_child_weight': [1, 5, 9]},\n",
              "             scoring='roc_auc')"
            ]
          },
          "metadata": {},
          "execution_count": 141
        }
      ]
    },
    {
      "cell_type": "code",
      "metadata": {
        "id": "3H5aiBURry0u",
        "colab": {
          "base_uri": "https://localhost:8080/"
        },
        "outputId": "f7041bb1-4624-4348-e1cc-352ba21299ba"
      },
      "source": [
        "xg_gridcv.best_estimator_"
      ],
      "execution_count": null,
      "outputs": [
        {
          "output_type": "execute_result",
          "data": {
            "text/plain": [
              "XGBClassifier(gamma=0.0, learning_rate=0.15, max_depth=15)"
            ]
          },
          "metadata": {},
          "execution_count": 142
        }
      ]
    },
    {
      "cell_type": "code",
      "metadata": {
        "id": "nkFNj4eXsJlS",
        "colab": {
          "base_uri": "https://localhost:8080/"
        },
        "outputId": "88be20b8-6257-47a8-910b-d0202023dc28"
      },
      "source": [
        "xg_gridcv.best_params_"
      ],
      "execution_count": null,
      "outputs": [
        {
          "output_type": "execute_result",
          "data": {
            "text/plain": [
              "{'gamma': 0.0, 'learning_rate': 0.15, 'max_depth': 15, 'min_child_weight': 1}"
            ]
          },
          "metadata": {},
          "execution_count": 143
        }
      ]
    },
    {
      "cell_type": "code",
      "metadata": {
        "id": "cb7hrqzssPzP"
      },
      "source": [
        "xg_best_grid_model= xg_gridcv.best_estimator_"
      ],
      "execution_count": null,
      "outputs": []
    },
    {
      "cell_type": "code",
      "metadata": {
        "id": "XOcrM3ARsctM"
      },
      "source": [
        "y_xg_gs_pred = xg_best_grid_model.predict(X_test)"
      ],
      "execution_count": null,
      "outputs": []
    },
    {
      "cell_type": "code",
      "metadata": {
        "id": "glATIDO0ti9l",
        "colab": {
          "base_uri": "https://localhost:8080/"
        },
        "outputId": "342409af-16ca-4dd6-9022-75ee1df71224"
      },
      "source": [
        "print(\"XG Accuracy:\",accuracy_score(Y_test, y_xg_gs_pred))\n",
        "print('XG Precision: %.3f' % precision_score(Y_test, y_xg_gs_pred))\n",
        "print('XG Recall: %.3f' % recall_score(Y_test,y_xg_gs_pred))\n",
        "print('XG F1 Score: %.3f' % f1_score(Y_test, y_xg_gs_pred))\n",
        "print('XG Confusion matrix: \\n', confusion_matrix(Y_test, y_xg_gs_pred))\n",
        "print('cohens kappa \\n', cohen_kappa_score(Y_test, y_xg_gs_pred))\n",
        "print('ROC_AUC score \\n', roc_auc_score(Y_test, y_xg_gs_pred))"
      ],
      "execution_count": null,
      "outputs": [
        {
          "output_type": "stream",
          "name": "stdout",
          "text": [
            "XG Accuracy: 0.9992015512718148\n",
            "XG Precision: 0.999\n",
            "XG Recall: 0.999\n",
            "XG F1 Score: 0.999\n",
            "XG Confusion matrix: \n",
            " [[4367    3]\n",
            " [   4 4393]]\n",
            "cohens kappa \n",
            " 0.998403088519284\n",
            "ROC_AUC score \n",
            " 0.99920189498873\n"
          ]
        }
      ]
    },
    {
      "cell_type": "code",
      "metadata": {
        "id": "BDV_XzHXTxgf",
        "colab": {
          "base_uri": "https://localhost:8080/",
          "height": 236
        },
        "outputId": "993c6d66-dd78-4252-b471-95d1106e5946"
      },
      "source": [
        "#print(classification_report(Y_test, y_pred))\n",
        "fprXGGS, tprXGGS, thresholdXGGS = roc_curve(Y_test, y_xg_gs_pred)\n",
        "roc_auc = auc(fprGS, thresholdGS)\n",
        "\n",
        "plt.title('Receiver Operating Characteristic')\n",
        "plt.plot(fprXGGS, tprXGGS, 'b', label = 'AUC = %0.2f' % roc_auc)\n",
        "plt.legend(loc = 'lower right')\n",
        "plt.plot([0, 1], [0, 1],'r--')\n",
        "plt.xlim([0, 1])\n",
        "plt.ylim([0, 1])\n",
        "plt.ylabel('True Positive Rate')\n",
        "plt.xlabel('False Positive Rate')\n",
        "plt.show()"
      ],
      "execution_count": null,
      "outputs": [
        {
          "output_type": "error",
          "ename": "NameError",
          "evalue": "ignored",
          "traceback": [
            "\u001b[0;31m---------------------------------------------------------------------------\u001b[0m",
            "\u001b[0;31mNameError\u001b[0m                                 Traceback (most recent call last)",
            "\u001b[0;32m<ipython-input-147-28d393f4c496>\u001b[0m in \u001b[0;36m<module>\u001b[0;34m()\u001b[0m\n\u001b[1;32m      1\u001b[0m \u001b[0;31m#print(classification_report(Y_test, y_pred))\u001b[0m\u001b[0;34m\u001b[0m\u001b[0;34m\u001b[0m\u001b[0;34m\u001b[0m\u001b[0m\n\u001b[1;32m      2\u001b[0m \u001b[0mfprXGGS\u001b[0m\u001b[0;34m,\u001b[0m \u001b[0mtprXGGS\u001b[0m\u001b[0;34m,\u001b[0m \u001b[0mthresholdXGGS\u001b[0m \u001b[0;34m=\u001b[0m \u001b[0mroc_curve\u001b[0m\u001b[0;34m(\u001b[0m\u001b[0mY_test\u001b[0m\u001b[0;34m,\u001b[0m \u001b[0my_xg_gs_pred\u001b[0m\u001b[0;34m)\u001b[0m\u001b[0;34m\u001b[0m\u001b[0;34m\u001b[0m\u001b[0m\n\u001b[0;32m----> 3\u001b[0;31m \u001b[0mroc_auc\u001b[0m \u001b[0;34m=\u001b[0m \u001b[0mauc\u001b[0m\u001b[0;34m(\u001b[0m\u001b[0mfprGS\u001b[0m\u001b[0;34m,\u001b[0m \u001b[0mthresholdGS\u001b[0m\u001b[0;34m)\u001b[0m\u001b[0;34m\u001b[0m\u001b[0;34m\u001b[0m\u001b[0m\n\u001b[0m\u001b[1;32m      4\u001b[0m \u001b[0;34m\u001b[0m\u001b[0m\n\u001b[1;32m      5\u001b[0m \u001b[0mplt\u001b[0m\u001b[0;34m.\u001b[0m\u001b[0mtitle\u001b[0m\u001b[0;34m(\u001b[0m\u001b[0;34m'Receiver Operating Characteristic'\u001b[0m\u001b[0;34m)\u001b[0m\u001b[0;34m\u001b[0m\u001b[0;34m\u001b[0m\u001b[0m\n",
            "\u001b[0;31mNameError\u001b[0m: name 'fprGS' is not defined"
          ]
        }
      ]
    },
    {
      "cell_type": "code",
      "metadata": {
        "id": "O6Rnm3pjt6mh"
      },
      "source": [
        "# Custom method for plotting the Confusion Matrix\n",
        "import itertools\n",
        "def plot_confusion_matrix(cm, classes,\n",
        "                          normalize=False,\n",
        "                          title='Confusion matrix',\n",
        "                          cmap=plt.cm.Blues):\n",
        "    if normalize:\n",
        "        cm = cm.astype('float') / cm.sum(axis=1)[:, np.newaxis]\n",
        "        print(\"Normalized confusion matrix\")\n",
        "    else:\n",
        "        print('Confusion matrix, without normalization')\n",
        "\n",
        "    plt.imshow(cm, interpolation='nearest', cmap=cmap)\n",
        "    plt.title(title)\n",
        "    plt.colorbar()\n",
        "    tick_marks = np.arange(len(classes))\n",
        "    plt.xticks(tick_marks, classes, rotation=45)\n",
        "    plt.yticks(tick_marks, classes)\n",
        "\n",
        "    fmt = '.2f' if normalize else 'd'\n",
        "    thresh = cm.max() / 2.\n",
        "    for i, j in itertools.product(range(cm.shape[0]), range(cm.shape[1])):\n",
        "        plt.text(j, i, format(cm[i, j], fmt),\n",
        "                 horizontalalignment=\"center\",\n",
        "                 color=\"white\" if cm[i, j] > thresh else \"black\")\n",
        "\n",
        "    plt.ylabel('True label')\n",
        "    plt.xlabel('Predicted label')\n",
        "    plt.tight_layout()\n",
        "\n",
        "# Plotting the confussion Matrix\n",
        "confussionMatrixRF = confusion_matrix(Y_test, y_xg_gs_pred)\n",
        "np.set_printoptions(precision=2)\n",
        "plt.figure()\n",
        "plot_confusion_matrix(confussionMatrixRF, classes=['Liver Disease','Normal'], title='Confusion Matrix')"
      ],
      "execution_count": null,
      "outputs": []
    }
  ]
}